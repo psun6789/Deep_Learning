{
 "cells": [
  {
   "cell_type": "markdown",
   "metadata": {
    "id": "CwNXRIcgmuo2"
   },
   "source": [
    "Part A - 2\n",
    "Build a CNN ensemble containing a maximum of 10 base learners. bold text"
   ]
  },
  {
   "cell_type": "code",
   "execution_count": 1,
   "metadata": {
    "colab": {
     "base_uri": "https://localhost:8080/",
     "height": 36
    },
    "id": "EUVEkqgDmIR3",
    "outputId": "6b8f6186-96f3-4868-adbb-e322f151f965"
   },
   "outputs": [
    {
     "data": {
      "application/vnd.google.colaboratory.intrinsic+json": {
       "type": "string"
      },
      "text/plain": [
       "'\\nName: Peter Sunny Shanthveer Markappa\\nStudent Number: R00208303\\nAssignment: Deep Learning Assignment 02\\nDraft : final\\nDate of submission : 01-May-2022\\n'"
      ]
     },
     "execution_count": 1,
     "metadata": {},
     "output_type": "execute_result"
    }
   ],
   "source": [
    "'''\n",
    "Name: Peter Sunny Shanthveer Markappa\n",
    "Student Number: R00208303\n",
    "Assignment: Deep Learning Assignment 02\n",
    "Draft : final\n",
    "Date of submission : 01-May-2022\n",
    "'''"
   ]
  },
  {
   "cell_type": "code",
   "execution_count": null,
   "metadata": {
    "colab": {
     "base_uri": "https://localhost:8080/"
    },
    "id": "a99lDZE-lSsH",
    "outputId": "3ff25254-f93b-46b9-d325-75f9c310cc5d"
   },
   "outputs": [
    {
     "name": "stdout",
     "output_type": "stream",
     "text": [
      "Mounted at /content/gdrive\n"
     ]
    }
   ],
   "source": [
    "from google.colab import drive\n",
    "drive.mount('/content/gdrive')"
   ]
  },
  {
   "cell_type": "code",
   "execution_count": null,
   "metadata": {
    "colab": {
     "base_uri": "https://localhost:8080/"
    },
    "id": "lF7mL7mwlTK8",
    "outputId": "b7074a99-d1c3-4431-9290-4464d9e74d30"
   },
   "outputs": [
    {
     "name": "stdout",
     "output_type": "stream",
     "text": [
      "Archive:  /content/gdrive/My Drive/Deep_learning_02/earth_data.zip\n",
      "  inflating: ./earth_data.h5         \n"
     ]
    }
   ],
   "source": [
    "!unzip \"/content/gdrive/My Drive/Deep_learning_02/earth_data.zip\" -d \"./\""
   ]
  },
  {
   "cell_type": "code",
   "execution_count": null,
   "metadata": {
    "id": "IV1NUlBQo1pi"
   },
   "outputs": [],
   "source": [
    "# Instruction: create directory called weights in the same place from where this file will be run"
   ]
  },
  {
   "cell_type": "code",
   "execution_count": null,
   "metadata": {
    "colab": {
     "base_uri": "https://localhost:8080/"
    },
    "id": "sW61vUoXlTN-",
    "outputId": "52165cf6-7cc9-48c9-e4b1-91b10231b697"
   },
   "outputs": [
    {
     "name": "stdout",
     "output_type": "stream",
     "text": [
      "earth_data.h5  gdrive  sample_data\n"
     ]
    }
   ],
   "source": [
    "!ls"
   ]
  },
  {
   "cell_type": "code",
   "execution_count": null,
   "metadata": {
    "id": "1IzhwWCJlTRi"
   },
   "outputs": [],
   "source": [
    "import numpy as np\n",
    "import h5py\n",
    "\n",
    "import tensorflow as tf\n",
    "\n",
    "from tensorflow.keras.layers import Conv2D\n",
    "from tensorflow.keras.layers import MaxPooling2D\n",
    "from tensorflow.keras.layers import Dense\n",
    "from tensorflow.keras.layers import Flatten, Dropout\n",
    "from tensorflow.keras.models import Sequential\n",
    "from tensorflow.keras.optimizers import Adam, SGD\n",
    "from tensorflow.keras.preprocessing.image import ImageDataGenerator\n",
    "import matplotlib.pyplot as plt\n",
    "from keras.callbacks import ModelCheckpoint\n",
    "from sklearn.metrics import accuracy_score\n"
   ]
  },
  {
   "cell_type": "code",
   "execution_count": null,
   "metadata": {
    "colab": {
     "base_uri": "https://localhost:8080/"
    },
    "id": "GjeQO8AalTTu",
    "outputId": "5c5a32b5-dd46-423b-d40b-99c3cc6ac302"
   },
   "outputs": [
    {
     "name": "stdout",
     "output_type": "stream",
     "text": [
      "(19200, 64, 64, 3) (19200,)\n",
      "(4800, 64, 64, 3) (4800,)\n"
     ]
    }
   ],
   "source": [
    "# function to Loading the Data from Drive\n",
    "def loadDataH5(): \n",
    "  with h5py.File('earth_data.h5','r') as hf:\n",
    "    trainX = np.array(hf.get('trainX'))\n",
    "    trainY = np.array(hf.get('trainY'))\n",
    "    valX = np.array(hf.get('valX'))\n",
    "    valY = np.array(hf.get('valY'))\n",
    "    print (trainX.shape,trainY.shape)\n",
    "    print (valX.shape,valY.shape)\n",
    "\n",
    "    return trainX, trainY, valX, valY\n",
    "\n",
    "trainX, trainY, valX, valY = loadDataH5()"
   ]
  },
  {
   "cell_type": "code",
   "execution_count": null,
   "metadata": {
    "id": "r3xyvzBRlTV9"
   },
   "outputs": [],
   "source": [
    "trainX = trainX.astype('float32')/255.0\n",
    "# trainY = trainY.astype('float32')/255.0\n",
    "\n",
    "valX = valX.astype('float32')/255.0\n",
    "# valY = valY.astype('float32')/255.0"
   ]
  },
  {
   "cell_type": "code",
   "execution_count": null,
   "metadata": {
    "colab": {
     "base_uri": "https://localhost:8080/"
    },
    "id": "XZPtpiYJlTYa",
    "outputId": "e8172dc7-a3f0-4baa-d76c-1b04d4424404"
   },
   "outputs": [
    {
     "name": "stdout",
     "output_type": "stream",
     "text": [
      "(64, 64, 3)\n"
     ]
    }
   ],
   "source": [
    "print(trainX.shape[1:])"
   ]
  },
  {
   "cell_type": "markdown",
   "metadata": {
    "id": "0WmyrhJ_pdRk"
   },
   "source": [
    "Base Learner - 1"
   ]
  },
  {
   "cell_type": "code",
   "execution_count": null,
   "metadata": {
    "id": "v1tVlbFJlTa6"
   },
   "outputs": [],
   "source": [
    "# Architecture 1\n",
    "\n",
    "def  base_learner_model_1(class_label, input_model):\n",
    "\n",
    "  base_learner_1 = Sequential()\n",
    "\n",
    "  # 1st Layer\n",
    "  base_learner_1.add(Conv2D(16, (3,3), input_shape=input_model, activation = 'relu', padding= 'same'))\n",
    "  base_learner_1.add(MaxPooling2D(2, 2))\n",
    "\n",
    "  # 2nd Layer\n",
    "  base_learner_1.add(Conv2D(32, (3,3), input_shape=(64,64,3), activation = 'relu', padding= 'same'))\n",
    "  base_learner_1.add(Conv2D(48, (3,3), input_shape=(64,64,3), activation = 'relu', padding= 'same'))\n",
    "  base_learner_1.add(Conv2D(64, (3,3), input_shape=(64,64,3), activation = 'relu', padding= 'same'))\n",
    "  base_learner_1.add(MaxPooling2D(2, 2))\n",
    "\n",
    "  # 3nd Layer\n",
    "  base_learner_1.add(Conv2D(96, (3,3), input_shape=(64,64,3), activation = 'relu', padding= 'same'))\n",
    "\n",
    "  base_learner_1.add(Flatten())\n",
    "  base_learner_1.add(Dense(32, activation = 'relu') )\n",
    "  base_learner_1.add(Dense(9, activation = 'softmax') )\n",
    "\n",
    "  return base_learner_1\n",
    "\n",
    "\n"
   ]
  },
  {
   "cell_type": "markdown",
   "metadata": {
    "id": "1nBUUIcCqFd8"
   },
   "source": [
    "**Base Learner - 2**"
   ]
  },
  {
   "cell_type": "code",
   "execution_count": null,
   "metadata": {
    "id": "UeefYb8VlTeB"
   },
   "outputs": [],
   "source": [
    "# Architecture 2\n",
    "\n",
    "def  base_learner_model_2(class_label, input_model):\n",
    "\n",
    "  base_learner_2 = Sequential()\n",
    "\n",
    "  # 1st Layer\n",
    "  base_learner_2.add(Conv2D(16, (3,3), input_shape=input_model, activation = 'relu', padding= 'same'))\n",
    "  base_learner_2.add(MaxPooling2D(2, 2))\n",
    "\n",
    "  # 2nd Layer\n",
    "  base_learner_2.add(Conv2D(32, (3,3), input_shape=(64,64,3), activation = 'relu', padding= 'same'))\n",
    "  base_learner_2.add(Conv2D(48, (3,3), input_shape=(64,64,3), activation = 'relu', padding= 'same'))\n",
    "  base_learner_2.add(Conv2D(64, (3,3), input_shape=(64,64,3), activation = 'relu', padding= 'same'))\n",
    "  base_learner_2.add(MaxPooling2D(2, 2))\n",
    "\n",
    "  # 3nd Layer\n",
    "  base_learner_2.add(Conv2D(96, (3,3), input_shape=(64,64,3), activation = 'relu', padding= 'same'))\n",
    "\n",
    "  # 4th Layer\n",
    "  base_learner_2.add(Conv2D(32, (3,3), input_shape=(64,64,3), activation = 'relu', padding= 'same'))\n",
    "  base_learner_2.add(Conv2D(64, (3,3), input_shape=(64,64,3), activation = 'relu', padding= 'same'))\n",
    "\n",
    "  base_learner_2.add(Flatten())\n",
    "  base_learner_2.add(Dense(256, activation = 'relu') )\n",
    "  base_learner_2.add(Dense(9, activation = 'softmax') )\n",
    "\n",
    "  return base_learner_2\n",
    "\n",
    "\n"
   ]
  },
  {
   "cell_type": "markdown",
   "metadata": {
    "id": "t4lQJBLzquXm"
   },
   "source": [
    "**Base Learner - 3**"
   ]
  },
  {
   "cell_type": "code",
   "execution_count": null,
   "metadata": {
    "id": "D2faJGqKlTf7"
   },
   "outputs": [],
   "source": [
    "# Architecture 3\n",
    "\n",
    "def  base_learner_model_3(class_label, input_model):\n",
    "\n",
    "  base_learner_3 = Sequential()\n",
    "\n",
    "  # 1st Layer\n",
    "  base_learner_3.add(Conv2D(16, (3,3), input_shape=input_model, activation = 'relu', padding= 'same'))\n",
    "  base_learner_3.add(MaxPooling2D(2, 2))\n",
    "\n",
    "  # 2nd Layer\n",
    "  base_learner_3.add(Conv2D(32, (3,3), input_shape=(64,64,3), activation = 'relu', padding= 'same'))\n",
    "  base_learner_3.add(Conv2D(48, (3,3), input_shape=(64,64,3), activation = 'relu', padding= 'same'))\n",
    "  base_learner_3.add(Conv2D(64, (3,3), input_shape=(64,64,3), activation = 'relu', padding= 'same'))\n",
    "  base_learner_3.add(MaxPooling2D(2, 2))\n",
    "\n",
    "  # 3nd Layer\n",
    "  base_learner_3.add(Conv2D(32, (3,3), input_shape=(64,64,3), activation = 'relu', padding= 'same'))\n",
    "  base_learner_3.add(Conv2D(64, (3,3), input_shape=(64,64,3), activation = 'relu', padding= 'same'))\n",
    "  base_learner_3.add(Conv2D(96, (3,3), input_shape=(64,64,3), activation = 'relu', padding= 'same'))\n",
    "\n",
    "  # 4th Layer\n",
    "  base_learner_3.add(Conv2D(32, (3,3), input_shape=(64,64,3), activation = 'relu', padding= 'same'))\n",
    "  base_learner_3.add(Conv2D(64, (3,3), input_shape=(64,64,3), activation = 'relu', padding= 'same'))\n",
    "  base_learner_3.add(Conv2D(96, (3,3), input_shape=(64,64,3), activation = 'relu', padding= 'same'))\n",
    "  base_learner_3.add(Conv2D(128, (3,3), input_shape=(64,64,3), activation = 'relu', padding= 'same'))\n",
    "\n",
    "  # 5th Layer\n",
    "  base_learner_3.add(Conv2D(256, (3,3), input_shape=(64,64,3), activation = 'relu', padding= 'same'))\n",
    "\n",
    "\n",
    "  base_learner_3.add(Flatten())\n",
    "  base_learner_3.add(Dense(64, activation = 'relu') )\n",
    "  base_learner_3.add(Dense(9, activation = 'softmax') )\n",
    "\n",
    "  return base_learner_3\n",
    "\n",
    "\n"
   ]
  },
  {
   "cell_type": "markdown",
   "metadata": {
    "id": "uwuYfsNErYSa"
   },
   "source": [
    "**Base Learner - 4**"
   ]
  },
  {
   "cell_type": "code",
   "execution_count": null,
   "metadata": {
    "id": "rsJnvYdWlTic"
   },
   "outputs": [],
   "source": [
    "# Architecture 4\n",
    "\n",
    "def  base_learner_model_4(class_label, input_model):\n",
    "\n",
    "  base_learner_4 = Sequential()\n",
    "\n",
    "  # 1st Layer\n",
    "  base_learner_4.add(Conv2D(16, (3,3), input_shape=input_model, activation = 'relu', padding= 'same'))\n",
    "  base_learner_4.add(MaxPooling2D(2, 2))\n",
    "\n",
    "  # 2nd Layer\n",
    "  base_learner_4.add(Conv2D(32, (3,3), input_shape=(64,64,3), activation = 'relu', padding= 'same'))\n",
    "  base_learner_4.add(Conv2D(48, (3,3), input_shape=(64,64,3), activation = 'relu', padding= 'same'))\n",
    "  base_learner_4.add(Conv2D(64, (3,3), input_shape=(64,64,3), activation = 'relu', padding= 'same'))\n",
    "  base_learner_4.add(MaxPooling2D(2, 2))\n",
    "\n",
    "  # 3nd Layer\n",
    "  base_learner_4.add(Conv2D(32, (3,3), input_shape=(64,64,3), activation = 'relu', padding= 'same'))\n",
    "  base_learner_4.add(Conv2D(64, (3,3), input_shape=(64,64,3), activation = 'relu', padding= 'same'))\n",
    "  base_learner_4.add(Conv2D(96, (3,3), input_shape=(64,64,3), activation = 'relu', padding= 'same'))\n",
    "\n",
    "  # 4th Layer\n",
    "  base_learner_4.add(Conv2D(32, (3,3), input_shape=(64,64,3), activation = 'relu', padding= 'same'))\n",
    "  base_learner_4.add(Conv2D(64, (3,3), input_shape=(64,64,3), activation = 'relu', padding= 'same'))\n",
    "  base_learner_4.add(Conv2D(96, (3,3), input_shape=(64,64,3), activation = 'relu', padding= 'same'))\n",
    "  base_learner_4.add(Conv2D(128, (3,3), input_shape=(64,64,3), activation = 'relu', padding= 'same'))\n",
    "\n",
    "  # 5th Layer\n",
    "  base_learner_4.add(Conv2D(64, (3,3), input_shape=(64,64,3), activation = 'relu', padding= 'same'))\n",
    "  base_learner_4.add(Conv2D(128, (3,3), input_shape=(64,64,3), activation = 'relu', padding= 'same'))\n",
    "\n",
    "\n",
    "  # 6th Layer\n",
    "  base_learner_4.add(Conv2D(64, (3,3), input_shape=(64,64,3), activation = 'relu', padding= 'same'))\n",
    "  base_learner_4.add(Conv2D(96, (3,3), input_shape=(64,64,3), activation = 'relu', padding= 'same'))\n",
    "  base_learner_4.add(Conv2D(128, (3,3), input_shape=(64,64,3), activation = 'relu', padding= 'same'))\n",
    "  base_learner_4.add(Conv2D(256, (3,3), input_shape=(64,64,3), activation = 'relu', padding= 'same'))\n",
    "  base_learner_4.add(Conv2D(512, (3,3), input_shape=(64,64,3), activation = 'relu', padding= 'same'))\n",
    "\n",
    "\n",
    "  base_learner_4.add(Flatten())\n",
    "  base_learner_4.add(Dense(256, activation = 'relu') )\n",
    "  base_learner_4.add(Dense(9, activation = 'softmax') )\n",
    "\n",
    "  return base_learner_4\n"
   ]
  },
  {
   "cell_type": "markdown",
   "metadata": {
    "id": "yAFlaOhrr4Ly"
   },
   "source": [
    "**Plotting of all the base learners**"
   ]
  },
  {
   "cell_type": "code",
   "execution_count": null,
   "metadata": {
    "id": "czqWmVjglTks"
   },
   "outputs": [],
   "source": [
    "def plot_history(history, name_model):\n",
    "  plt.style.use('ggplot')\n",
    "  plt.figure()\n",
    "  plt.plot(np.arange(0, epochs), history.history['loss'], label='Training Loss')\n",
    "  plt.plot(np.arange(0, epochs), history.history['val_loss'], label='Validation Loss')\n",
    "  plt.plot(np.arange(0, epochs), history.history['accuracy'], label='Training Accuracy')\n",
    "  plt.plot(np.arange(0, epochs), history.history['val_accuracy'], label='Validation Accuracy')\n",
    "\n",
    "  plt.title(\"Training / Valiation ==> Loss and Accuracy\" + \"\\n\" + name_model)\n",
    "\n",
    "  plt.xlabel(\"Epochs --> \")\n",
    "  plt.ylabel(\"Loss / Accuracy\")\n",
    "\n",
    "  plt.legend()\n",
    "\n",
    "  plt.savefig(\"Loss_Accuracy_Graph\"+\".png\")"
   ]
  },
  {
   "cell_type": "markdown",
   "metadata": {
    "id": "MBUOhfQP8VeA"
   },
   "source": [
    "Compiling the model and fitting it with keeping track of check points of inprovement in validation loss"
   ]
  },
  {
   "cell_type": "code",
   "execution_count": null,
   "metadata": {
    "id": "m8xYfM_SlTmv"
   },
   "outputs": [],
   "source": [
    "def compilation_model(model, name, epochs, trainX = trainX, trainY=trainY):\n",
    "\n",
    "  model.compile(optimizer = Adam(learning_rate= 0.01), loss = 'sparse_categorical_crossentropy', metrics = ['accuracy'])\n",
    "  # model.compile(optimizer = SGD(lr=0.01, decay=0.01, momentum=0.2, nesterov=True), loss = 'sparse_categorical_crossentropy', metrics = ['accuracy'])\n",
    "\n",
    "  \n",
    "  filepath = \"weights/\"+name+\".h5\"\n",
    "  check_point = ModelCheckpoint(filepath, monitor = 'val_loss', mode = 'min', save_best_only = True, verbose=1)\n",
    "\n",
    "  history = model.fit(x = trainX, y = trainY, batch_size = 32, epochs = epochs, callbacks=[check_point], validation_data = (valX, valY))\n",
    "\n",
    "  plot_history(history, name)\n",
    "\n",
    "  return filepath"
   ]
  },
  {
   "cell_type": "code",
   "execution_count": null,
   "metadata": {
    "id": "3LQY6VUalTom"
   },
   "outputs": [],
   "source": [
    "# Calculation of loss and accuracy for model\n",
    "\n",
    "def evaluation_model(model):\n",
    "  print(\"Valiation Loss {0} \\n Valiation Accuracy {1}\".format(model.evaluate(valX, valY, verbose=0)[0], model.evaluate(valX, valY, verbose = 0)[1]))\n",
    "  return model.evaluate(valX, valY, verbose=0)\n",
    "\n"
   ]
  },
  {
   "cell_type": "code",
   "execution_count": null,
   "metadata": {
    "id": "RJtcqx5hlTqj"
   },
   "outputs": [],
   "source": [
    "\n",
    "def ensemble_prediction(models):\n",
    "  # prediction = [model.predict_proba(valX, verbose=0) for model in models]\n",
    "  prediction = [model.predict(valX) for model in models]\n",
    "  # model_cEXT.predict_proba(X_test)\n",
    "  # for model in models:\n",
    "  #   predict_prob=model.predict([testa,testb])\n",
    "\n",
    "\n",
    "\n",
    "  prediction_array = np.array(prediction)\n",
    "\n",
    "  result = np.argmax(np.sum(prediction_array / len(models), axis=0), axis=1)\n",
    "  print(\"*\"*40 )\n",
    "  print(\"ensemble_accuracy_score = \", accuracy_score(valY, result, normalize=True))\n",
    "  print(\"*\"*40 )"
   ]
  },
  {
   "cell_type": "code",
   "execution_count": null,
   "metadata": {
    "id": "oCMhb0FB_5Sh"
   },
   "outputs": [],
   "source": [
    "def creaing_base_learners(model_number, label, input_shape, epochs, name):\n",
    "  model = None\n",
    "\n",
    "  if model_number == 1:\n",
    "    model = base_learner_model_1(label, input_shape)\n",
    "  elif model_number == 2:\n",
    "    model = base_learner_model_2(label, input_shape)\n",
    "  elif model_number == 3:\n",
    "    model = base_learner_model_3(label, input_shape)\n",
    "  elif model_number == 4:\n",
    "    model = base_learner_model_4(label, input_shape)\n",
    "  \n",
    "  # summary of the model\n",
    "  print(model.summary())\n",
    "\n",
    "  model_weights = compilation_model(model, name = name, epochs = epochs)\n",
    "  model.load_weights(model_weights)\n",
    "  list_models.append(model)\n",
    "  \n",
    "  result = evaluation_model(model)\n",
    "  list_score.append(result)\n"
   ]
  },
  {
   "cell_type": "code",
   "execution_count": null,
   "metadata": {
    "colab": {
     "base_uri": "https://localhost:8080/"
    },
    "id": "u8Ivq0H6_5V1",
    "outputId": "0b695b01-3847-4319-bd31-4e1274e71130"
   },
   "outputs": [
    {
     "name": "stdout",
     "output_type": "stream",
     "text": [
      "(19200, 64, 64, 3) (19200,)\n",
      "(4800, 64, 64, 3) (4800,)\n"
     ]
    }
   ],
   "source": [
    "from numpy.core.fromnumeric import shape\n",
    "# varibales assignments\n",
    "trainX, trainY, valX, valY = loadDataH5()\n",
    "training_images = trainX.shape[0]\n",
    "class_labels = 9\n",
    "epochs = 20\n",
    "list_models = []\n",
    "list_score = []\n",
    "shape = trainX.shape[1:]"
   ]
  },
  {
   "cell_type": "code",
   "execution_count": null,
   "metadata": {
    "id": "rQoYPQ-N_5Y0"
   },
   "outputs": [],
   "source": []
  },
  {
   "cell_type": "markdown",
   "metadata": {
    "id": "KrQFdzAbDZDE"
   },
   "source": [
    "Creating Ensemble Model 1 with 4 different learners and average their output"
   ]
  },
  {
   "cell_type": "code",
   "execution_count": null,
   "metadata": {
    "colab": {
     "base_uri": "https://localhost:8080/",
     "height": 1000
    },
    "id": "vLs81TSM_5b3",
    "outputId": "1e699c3e-4a82-4eb8-d710-d5703ed537a3"
   },
   "outputs": [
    {
     "name": "stdout",
     "output_type": "stream",
     "text": [
      "Model: \"sequential_23\"\n",
      "_________________________________________________________________\n",
      " Layer (type)                Output Shape              Param #   \n",
      "=================================================================\n",
      " conv2d_203 (Conv2D)         (None, 64, 64, 16)        448       \n",
      "                                                                 \n",
      " max_pooling2d_46 (MaxPoolin  (None, 32, 32, 16)       0         \n",
      " g2D)                                                            \n",
      "                                                                 \n",
      " conv2d_204 (Conv2D)         (None, 32, 32, 32)        4640      \n",
      "                                                                 \n",
      " conv2d_205 (Conv2D)         (None, 32, 32, 48)        13872     \n",
      "                                                                 \n",
      " conv2d_206 (Conv2D)         (None, 32, 32, 64)        27712     \n",
      "                                                                 \n",
      " max_pooling2d_47 (MaxPoolin  (None, 16, 16, 64)       0         \n",
      " g2D)                                                            \n",
      "                                                                 \n",
      " conv2d_207 (Conv2D)         (None, 16, 16, 96)        55392     \n",
      "                                                                 \n",
      " flatten_23 (Flatten)        (None, 24576)             0         \n",
      "                                                                 \n",
      " dense_46 (Dense)            (None, 32)                786464    \n",
      "                                                                 \n",
      " dense_47 (Dense)            (None, 9)                 297       \n",
      "                                                                 \n",
      "=================================================================\n",
      "Total params: 888,825\n",
      "Trainable params: 888,825\n",
      "Non-trainable params: 0\n",
      "_________________________________________________________________\n",
      "None\n",
      "Epoch 1/20\n",
      "598/600 [============================>.] - ETA: 0s - loss: 6.0023 - accuracy: 0.2492\n",
      "Epoch 1: val_loss improved from inf to 1.75829, saving model to weights/Model_1.h5\n",
      "600/600 [==============================] - 14s 23ms/step - loss: 5.9883 - accuracy: 0.2493 - val_loss: 1.7583 - val_accuracy: 0.2994\n",
      "Epoch 2/20\n",
      "600/600 [==============================] - ETA: 0s - loss: 1.7682 - accuracy: 0.3052\n",
      "Epoch 2: val_loss did not improve from 1.75829\n",
      "600/600 [==============================] - 14s 23ms/step - loss: 1.7682 - accuracy: 0.3052 - val_loss: 1.8428 - val_accuracy: 0.2519\n",
      "Epoch 3/20\n",
      "599/600 [============================>.] - ETA: 0s - loss: 1.6568 - accuracy: 0.3581\n",
      "Epoch 3: val_loss did not improve from 1.75829\n",
      "600/600 [==============================] - 13s 21ms/step - loss: 1.6561 - accuracy: 0.3584 - val_loss: 1.7597 - val_accuracy: 0.3096\n",
      "Epoch 4/20\n",
      "599/600 [============================>.] - ETA: 0s - loss: 1.7361 - accuracy: 0.3513\n",
      "Epoch 4: val_loss improved from 1.75829 to 1.52068, saving model to weights/Model_1.h5\n",
      "600/600 [==============================] - 13s 22ms/step - loss: 1.7358 - accuracy: 0.3512 - val_loss: 1.5207 - val_accuracy: 0.3931\n",
      "Epoch 5/20\n",
      "600/600 [==============================] - ETA: 0s - loss: 1.4432 - accuracy: 0.4568\n",
      "Epoch 5: val_loss did not improve from 1.52068\n",
      "600/600 [==============================] - 13s 21ms/step - loss: 1.4432 - accuracy: 0.4568 - val_loss: 1.6208 - val_accuracy: 0.4252\n",
      "Epoch 6/20\n",
      "598/600 [============================>.] - ETA: 0s - loss: 1.3326 - accuracy: 0.4926\n",
      "Epoch 6: val_loss improved from 1.52068 to 1.28420, saving model to weights/Model_1.h5\n",
      "600/600 [==============================] - 12s 21ms/step - loss: 1.3321 - accuracy: 0.4928 - val_loss: 1.2842 - val_accuracy: 0.5325\n",
      "Epoch 7/20\n",
      "599/600 [============================>.] - ETA: 0s - loss: 1.3450 - accuracy: 0.4982\n",
      "Epoch 7: val_loss improved from 1.28420 to 1.24015, saving model to weights/Model_1.h5\n",
      "600/600 [==============================] - 14s 23ms/step - loss: 1.3449 - accuracy: 0.4983 - val_loss: 1.2402 - val_accuracy: 0.5387\n",
      "Epoch 8/20\n",
      "599/600 [============================>.] - ETA: 0s - loss: 1.2673 - accuracy: 0.5183\n",
      "Epoch 8: val_loss improved from 1.24015 to 1.22224, saving model to weights/Model_1.h5\n",
      "600/600 [==============================] - 13s 22ms/step - loss: 1.2677 - accuracy: 0.5182 - val_loss: 1.2222 - val_accuracy: 0.5400\n",
      "Epoch 9/20\n",
      "599/600 [============================>.] - ETA: 0s - loss: 1.2374 - accuracy: 0.5309\n",
      "Epoch 9: val_loss improved from 1.22224 to 1.17431, saving model to weights/Model_1.h5\n",
      "600/600 [==============================] - 13s 22ms/step - loss: 1.2377 - accuracy: 0.5308 - val_loss: 1.1743 - val_accuracy: 0.5508\n",
      "Epoch 10/20\n",
      "600/600 [==============================] - ETA: 0s - loss: 1.2256 - accuracy: 0.5324\n",
      "Epoch 10: val_loss did not improve from 1.17431\n",
      "600/600 [==============================] - 14s 24ms/step - loss: 1.2256 - accuracy: 0.5324 - val_loss: 1.2295 - val_accuracy: 0.5333\n",
      "Epoch 11/20\n",
      "599/600 [============================>.] - ETA: 0s - loss: 1.2256 - accuracy: 0.5297\n",
      "Epoch 11: val_loss did not improve from 1.17431\n",
      "600/600 [==============================] - 15s 25ms/step - loss: 1.2257 - accuracy: 0.5297 - val_loss: 1.3085 - val_accuracy: 0.4958\n",
      "Epoch 12/20\n",
      "600/600 [==============================] - ETA: 0s - loss: 1.2148 - accuracy: 0.5358\n",
      "Epoch 12: val_loss did not improve from 1.17431\n",
      "600/600 [==============================] - 15s 25ms/step - loss: 1.2148 - accuracy: 0.5358 - val_loss: 1.2892 - val_accuracy: 0.5258\n",
      "Epoch 13/20\n",
      "600/600 [==============================] - ETA: 0s - loss: 1.1905 - accuracy: 0.5462\n",
      "Epoch 13: val_loss did not improve from 1.17431\n",
      "600/600 [==============================] - 13s 22ms/step - loss: 1.1905 - accuracy: 0.5462 - val_loss: 1.2620 - val_accuracy: 0.5290\n",
      "Epoch 14/20\n",
      "599/600 [============================>.] - ETA: 0s - loss: 1.1905 - accuracy: 0.5450\n",
      "Epoch 14: val_loss improved from 1.17431 to 1.15221, saving model to weights/Model_1.h5\n",
      "600/600 [==============================] - 13s 22ms/step - loss: 1.1904 - accuracy: 0.5449 - val_loss: 1.1522 - val_accuracy: 0.5700\n",
      "Epoch 15/20\n",
      "600/600 [==============================] - ETA: 0s - loss: 1.2489 - accuracy: 0.5256\n",
      "Epoch 15: val_loss did not improve from 1.15221\n",
      "600/600 [==============================] - 13s 22ms/step - loss: 1.2489 - accuracy: 0.5256 - val_loss: 1.2590 - val_accuracy: 0.5250\n",
      "Epoch 16/20\n",
      "599/600 [============================>.] - ETA: 0s - loss: 1.2152 - accuracy: 0.5363\n",
      "Epoch 16: val_loss did not improve from 1.15221\n",
      "600/600 [==============================] - 13s 22ms/step - loss: 1.2150 - accuracy: 0.5365 - val_loss: 1.2105 - val_accuracy: 0.5546\n",
      "Epoch 17/20\n",
      "600/600 [==============================] - ETA: 0s - loss: 1.2056 - accuracy: 0.5442\n",
      "Epoch 17: val_loss did not improve from 1.15221\n",
      "600/600 [==============================] - 13s 22ms/step - loss: 1.2056 - accuracy: 0.5442 - val_loss: 1.2433 - val_accuracy: 0.5300\n",
      "Epoch 18/20\n",
      "598/600 [============================>.] - ETA: 0s - loss: 1.2029 - accuracy: 0.5472\n",
      "Epoch 18: val_loss did not improve from 1.15221\n",
      "600/600 [==============================] - 13s 21ms/step - loss: 1.2022 - accuracy: 0.5474 - val_loss: 1.2426 - val_accuracy: 0.5258\n",
      "Epoch 19/20\n",
      "598/600 [============================>.] - ETA: 0s - loss: 1.2096 - accuracy: 0.5415\n",
      "Epoch 19: val_loss did not improve from 1.15221\n",
      "600/600 [==============================] - 12s 20ms/step - loss: 1.2103 - accuracy: 0.5411 - val_loss: 1.3202 - val_accuracy: 0.4856\n",
      "Epoch 20/20\n",
      "600/600 [==============================] - ETA: 0s - loss: 1.1993 - accuracy: 0.5454\n",
      "Epoch 20: val_loss did not improve from 1.15221\n",
      "600/600 [==============================] - 13s 21ms/step - loss: 1.1993 - accuracy: 0.5454 - val_loss: 1.2760 - val_accuracy: 0.5323\n",
      "Valiation Loss 1.1522053480148315 \n",
      " Valiation Accuracy 0.5699999928474426\n",
      "Model: \"sequential_24\"\n",
      "_________________________________________________________________\n",
      " Layer (type)                Output Shape              Param #   \n",
      "=================================================================\n",
      " conv2d_208 (Conv2D)         (None, 64, 64, 16)        448       \n",
      "                                                                 \n",
      " max_pooling2d_48 (MaxPoolin  (None, 32, 32, 16)       0         \n",
      " g2D)                                                            \n",
      "                                                                 \n",
      " conv2d_209 (Conv2D)         (None, 32, 32, 32)        4640      \n",
      "                                                                 \n",
      " conv2d_210 (Conv2D)         (None, 32, 32, 48)        13872     \n",
      "                                                                 \n",
      " conv2d_211 (Conv2D)         (None, 32, 32, 64)        27712     \n",
      "                                                                 \n",
      " max_pooling2d_49 (MaxPoolin  (None, 16, 16, 64)       0         \n",
      " g2D)                                                            \n",
      "                                                                 \n",
      " conv2d_212 (Conv2D)         (None, 16, 16, 96)        55392     \n",
      "                                                                 \n",
      " conv2d_213 (Conv2D)         (None, 16, 16, 32)        27680     \n",
      "                                                                 \n",
      " conv2d_214 (Conv2D)         (None, 16, 16, 64)        18496     \n",
      "                                                                 \n",
      " flatten_24 (Flatten)        (None, 16384)             0         \n",
      "                                                                 \n",
      " dense_48 (Dense)            (None, 256)               4194560   \n",
      "                                                                 \n",
      " dense_49 (Dense)            (None, 9)                 2313      \n",
      "                                                                 \n",
      "=================================================================\n",
      "Total params: 4,345,113\n",
      "Trainable params: 4,345,113\n",
      "Non-trainable params: 0\n",
      "_________________________________________________________________\n",
      "None\n",
      "Epoch 1/20\n",
      "599/600 [============================>.] - ETA: 0s - loss: 14.7861 - accuracy: 0.2896\n",
      "Epoch 1: val_loss improved from inf to 1.67337, saving model to weights/Model_2.h5\n",
      "600/600 [==============================] - 17s 26ms/step - loss: 14.7648 - accuracy: 0.2897 - val_loss: 1.6734 - val_accuracy: 0.3358\n",
      "Epoch 2/20\n",
      "599/600 [============================>.] - ETA: 0s - loss: 1.8680 - accuracy: 0.3342\n",
      "Epoch 2: val_loss did not improve from 1.67337\n",
      "600/600 [==============================] - 16s 26ms/step - loss: 1.8679 - accuracy: 0.3341 - val_loss: 1.9888 - val_accuracy: 0.2298\n",
      "Epoch 3/20\n",
      "600/600 [==============================] - ETA: 0s - loss: 1.8578 - accuracy: 0.2874\n",
      "Epoch 3: val_loss did not improve from 1.67337\n",
      "600/600 [==============================] - 16s 26ms/step - loss: 1.8578 - accuracy: 0.2874 - val_loss: 1.7575 - val_accuracy: 0.3346\n",
      "Epoch 4/20\n",
      "600/600 [==============================] - ETA: 0s - loss: 1.8213 - accuracy: 0.3098\n",
      "Epoch 4: val_loss did not improve from 1.67337\n",
      "600/600 [==============================] - 16s 26ms/step - loss: 1.8213 - accuracy: 0.3098 - val_loss: 1.9321 - val_accuracy: 0.2348\n",
      "Epoch 5/20\n",
      "600/600 [==============================] - ETA: 0s - loss: 1.8944 - accuracy: 0.2773\n",
      "Epoch 5: val_loss did not improve from 1.67337\n",
      "600/600 [==============================] - 16s 26ms/step - loss: 1.8944 - accuracy: 0.2773 - val_loss: 1.8249 - val_accuracy: 0.2848\n",
      "Epoch 6/20\n",
      "600/600 [==============================] - ETA: 0s - loss: 1.7389 - accuracy: 0.3473\n",
      "Epoch 6: val_loss did not improve from 1.67337\n",
      "600/600 [==============================] - 16s 26ms/step - loss: 1.7389 - accuracy: 0.3473 - val_loss: 1.7389 - val_accuracy: 0.3358\n",
      "Epoch 7/20\n",
      "599/600 [============================>.] - ETA: 0s - loss: 1.7074 - accuracy: 0.3649\n",
      "Epoch 7: val_loss did not improve from 1.67337\n",
      "600/600 [==============================] - 16s 26ms/step - loss: 1.7070 - accuracy: 0.3651 - val_loss: 1.7717 - val_accuracy: 0.3462\n",
      "Epoch 8/20\n",
      "600/600 [==============================] - ETA: 0s - loss: 1.6834 - accuracy: 0.3810\n",
      "Epoch 8: val_loss did not improve from 1.67337\n",
      "600/600 [==============================] - 16s 26ms/step - loss: 1.6834 - accuracy: 0.3810 - val_loss: 1.8288 - val_accuracy: 0.3598\n",
      "Epoch 9/20\n",
      "599/600 [============================>.] - ETA: 0s - loss: 1.6534 - accuracy: 0.3992\n",
      "Epoch 9: val_loss did not improve from 1.67337\n",
      "600/600 [==============================] - 15s 26ms/step - loss: 1.6531 - accuracy: 0.3994 - val_loss: 1.8049 - val_accuracy: 0.3260\n",
      "Epoch 10/20\n",
      "600/600 [==============================] - ETA: 0s - loss: 1.6708 - accuracy: 0.3947\n",
      "Epoch 10: val_loss improved from 1.67337 to 1.63595, saving model to weights/Model_2.h5\n",
      "600/600 [==============================] - 16s 26ms/step - loss: 1.6708 - accuracy: 0.3947 - val_loss: 1.6360 - val_accuracy: 0.4002\n",
      "Epoch 11/20\n",
      "599/600 [============================>.] - ETA: 0s - loss: 1.6030 - accuracy: 0.4153\n",
      "Epoch 11: val_loss improved from 1.63595 to 1.60900, saving model to weights/Model_2.h5\n",
      "600/600 [==============================] - 16s 26ms/step - loss: 1.6027 - accuracy: 0.4155 - val_loss: 1.6090 - val_accuracy: 0.4175\n",
      "Epoch 12/20\n",
      "598/600 [============================>.] - ETA: 0s - loss: 1.5934 - accuracy: 0.4213\n",
      "Epoch 12: val_loss did not improve from 1.60900\n",
      "600/600 [==============================] - 16s 26ms/step - loss: 1.5938 - accuracy: 0.4209 - val_loss: 1.6345 - val_accuracy: 0.4060\n",
      "Epoch 13/20\n",
      "598/600 [============================>.] - ETA: 0s - loss: 1.8241 - accuracy: 0.3160\n",
      "Epoch 13: val_loss did not improve from 1.60900\n",
      "600/600 [==============================] - 16s 26ms/step - loss: 1.8254 - accuracy: 0.3151 - val_loss: 2.2091 - val_accuracy: 0.1250\n",
      "Epoch 14/20\n",
      "598/600 [============================>.] - ETA: 0s - loss: 2.1977 - accuracy: 0.1252\n",
      "Epoch 14: val_loss did not improve from 1.60900\n",
      "600/600 [==============================] - 16s 26ms/step - loss: 2.1976 - accuracy: 0.1251 - val_loss: 2.1947 - val_accuracy: 0.1250\n",
      "Epoch 15/20\n",
      "599/600 [============================>.] - ETA: 0s - loss: 2.1959 - accuracy: 0.1256\n",
      "Epoch 15: val_loss did not improve from 1.60900\n",
      "600/600 [==============================] - 16s 26ms/step - loss: 2.1959 - accuracy: 0.1257 - val_loss: 2.1948 - val_accuracy: 0.1250\n",
      "Epoch 16/20\n",
      "599/600 [============================>.] - ETA: 0s - loss: 2.1944 - accuracy: 0.1212\n",
      "Epoch 16: val_loss did not improve from 1.60900\n",
      "600/600 [==============================] - 15s 26ms/step - loss: 2.1944 - accuracy: 0.1212 - val_loss: 2.1963 - val_accuracy: 0.1250\n",
      "Epoch 17/20\n",
      "598/600 [============================>.] - ETA: 0s - loss: 2.1933 - accuracy: 0.1243\n",
      "Epoch 17: val_loss did not improve from 1.60900\n",
      "600/600 [==============================] - 15s 26ms/step - loss: 2.1933 - accuracy: 0.1242 - val_loss: 2.1906 - val_accuracy: 0.1250\n",
      "Epoch 18/20\n",
      "598/600 [============================>.] - ETA: 0s - loss: 2.1925 - accuracy: 0.1279\n",
      "Epoch 18: val_loss did not improve from 1.60900\n",
      "600/600 [==============================] - 16s 26ms/step - loss: 2.1927 - accuracy: 0.1276 - val_loss: 2.1938 - val_accuracy: 0.1250\n",
      "Epoch 19/20\n",
      "598/600 [============================>.] - ETA: 0s - loss: 2.1925 - accuracy: 0.1260\n",
      "Epoch 19: val_loss did not improve from 1.60900\n",
      "600/600 [==============================] - 16s 26ms/step - loss: 2.1926 - accuracy: 0.1258 - val_loss: 2.1906 - val_accuracy: 0.1250\n",
      "Epoch 20/20\n",
      "599/600 [============================>.] - ETA: 0s - loss: 2.1920 - accuracy: 0.1203\n",
      "Epoch 20: val_loss did not improve from 1.60900\n",
      "600/600 [==============================] - 15s 26ms/step - loss: 2.1920 - accuracy: 0.1203 - val_loss: 2.1922 - val_accuracy: 0.1250\n",
      "Valiation Loss 1.6089953184127808 \n",
      " Valiation Accuracy 0.41749998927116394\n",
      "Model: \"sequential_25\"\n",
      "_________________________________________________________________\n",
      " Layer (type)                Output Shape              Param #   \n",
      "=================================================================\n",
      " conv2d_215 (Conv2D)         (None, 64, 64, 16)        448       \n",
      "                                                                 \n",
      " max_pooling2d_50 (MaxPoolin  (None, 32, 32, 16)       0         \n",
      " g2D)                                                            \n",
      "                                                                 \n",
      " conv2d_216 (Conv2D)         (None, 32, 32, 32)        4640      \n",
      "                                                                 \n",
      " conv2d_217 (Conv2D)         (None, 32, 32, 48)        13872     \n",
      "                                                                 \n",
      " conv2d_218 (Conv2D)         (None, 32, 32, 64)        27712     \n",
      "                                                                 \n",
      " max_pooling2d_51 (MaxPoolin  (None, 16, 16, 64)       0         \n",
      " g2D)                                                            \n",
      "                                                                 \n",
      " conv2d_219 (Conv2D)         (None, 16, 16, 32)        18464     \n",
      "                                                                 \n",
      " conv2d_220 (Conv2D)         (None, 16, 16, 64)        18496     \n",
      "                                                                 \n",
      " conv2d_221 (Conv2D)         (None, 16, 16, 96)        55392     \n",
      "                                                                 \n",
      " conv2d_222 (Conv2D)         (None, 16, 16, 32)        27680     \n",
      "                                                                 \n",
      " conv2d_223 (Conv2D)         (None, 16, 16, 64)        18496     \n",
      "                                                                 \n",
      " conv2d_224 (Conv2D)         (None, 16, 16, 96)        55392     \n",
      "                                                                 \n",
      " conv2d_225 (Conv2D)         (None, 16, 16, 128)       110720    \n",
      "                                                                 \n",
      " conv2d_226 (Conv2D)         (None, 16, 16, 256)       295168    \n",
      "                                                                 \n",
      " flatten_25 (Flatten)        (None, 65536)             0         \n",
      "                                                                 \n",
      " dense_50 (Dense)            (None, 64)                4194368   \n",
      "                                                                 \n",
      " dense_51 (Dense)            (None, 9)                 585       \n",
      "                                                                 \n",
      "=================================================================\n",
      "Total params: 4,841,433\n",
      "Trainable params: 4,841,433\n",
      "Non-trainable params: 0\n",
      "_________________________________________________________________\n",
      "None\n",
      "Epoch 1/20\n",
      "599/600 [============================>.] - ETA: 0s - loss: 339.7745 - accuracy: 0.1245\n",
      "Epoch 1: val_loss improved from inf to 2.19011, saving model to weights/Model_3.h5\n",
      "600/600 [==============================] - 26s 41ms/step - loss: 339.2119 - accuracy: 0.1244 - val_loss: 2.1901 - val_accuracy: 0.1250\n",
      "Epoch 2/20\n",
      "599/600 [============================>.] - ETA: 0s - loss: 2.1904 - accuracy: 0.1265\n",
      "Epoch 2: val_loss improved from 2.19011 to 2.18983, saving model to weights/Model_3.h5\n",
      "600/600 [==============================] - 25s 41ms/step - loss: 2.1905 - accuracy: 0.1264 - val_loss: 2.1898 - val_accuracy: 0.1250\n",
      "Epoch 3/20\n",
      "599/600 [============================>.] - ETA: 0s - loss: 2.1907 - accuracy: 0.1205\n",
      "Epoch 3: val_loss improved from 2.18983 to 2.18964, saving model to weights/Model_3.h5\n",
      "600/600 [==============================] - 24s 41ms/step - loss: 2.1907 - accuracy: 0.1206 - val_loss: 2.1896 - val_accuracy: 0.1250\n",
      "Epoch 4/20\n",
      "599/600 [============================>.] - ETA: 0s - loss: 2.1906 - accuracy: 0.1246\n",
      "Epoch 4: val_loss did not improve from 2.18964\n",
      "600/600 [==============================] - 24s 41ms/step - loss: 2.1906 - accuracy: 0.1246 - val_loss: 2.1904 - val_accuracy: 0.1250\n",
      "Epoch 5/20\n",
      "599/600 [============================>.] - ETA: 0s - loss: 2.1907 - accuracy: 0.1257\n",
      "Epoch 5: val_loss did not improve from 2.18964\n",
      "600/600 [==============================] - 24s 40ms/step - loss: 2.1907 - accuracy: 0.1258 - val_loss: 2.1901 - val_accuracy: 0.1250\n",
      "Epoch 6/20\n",
      "599/600 [============================>.] - ETA: 0s - loss: 2.1906 - accuracy: 0.1228\n",
      "Epoch 6: val_loss did not improve from 2.18964\n",
      "600/600 [==============================] - 24s 40ms/step - loss: 2.1906 - accuracy: 0.1228 - val_loss: 2.1899 - val_accuracy: 0.1250\n",
      "Epoch 7/20\n",
      "599/600 [============================>.] - ETA: 0s - loss: 2.1906 - accuracy: 0.1225\n",
      "Epoch 7: val_loss did not improve from 2.18964\n",
      "600/600 [==============================] - 25s 42ms/step - loss: 2.1906 - accuracy: 0.1227 - val_loss: 2.1904 - val_accuracy: 0.1250\n",
      "Epoch 8/20\n",
      "600/600 [==============================] - ETA: 0s - loss: 2.1907 - accuracy: 0.1243\n",
      "Epoch 8: val_loss did not improve from 2.18964\n",
      "600/600 [==============================] - 24s 41ms/step - loss: 2.1907 - accuracy: 0.1243 - val_loss: 2.1913 - val_accuracy: 0.1250\n",
      "Epoch 9/20\n",
      "599/600 [============================>.] - ETA: 0s - loss: 2.1908 - accuracy: 0.1237\n",
      "Epoch 9: val_loss did not improve from 2.18964\n",
      "600/600 [==============================] - 25s 42ms/step - loss: 2.1908 - accuracy: 0.1238 - val_loss: 2.1902 - val_accuracy: 0.1250\n",
      "Epoch 10/20\n",
      "599/600 [============================>.] - ETA: 0s - loss: 2.1908 - accuracy: 0.1233\n",
      "Epoch 10: val_loss did not improve from 2.18964\n",
      "600/600 [==============================] - 25s 42ms/step - loss: 2.1908 - accuracy: 0.1235 - val_loss: 2.1905 - val_accuracy: 0.1250\n",
      "Epoch 11/20\n",
      "599/600 [============================>.] - ETA: 0s - loss: 2.1910 - accuracy: 0.1210\n",
      "Epoch 11: val_loss did not improve from 2.18964\n",
      "600/600 [==============================] - 24s 41ms/step - loss: 2.1910 - accuracy: 0.1208 - val_loss: 2.1900 - val_accuracy: 0.1250\n",
      "Epoch 12/20\n",
      "599/600 [============================>.] - ETA: 0s - loss: 2.1908 - accuracy: 0.1189\n",
      "Epoch 12: val_loss did not improve from 2.18964\n",
      "600/600 [==============================] - 25s 42ms/step - loss: 2.1908 - accuracy: 0.1189 - val_loss: 2.1901 - val_accuracy: 0.1250\n",
      "Epoch 13/20\n",
      "599/600 [============================>.] - ETA: 0s - loss: 2.1907 - accuracy: 0.1275\n",
      "Epoch 13: val_loss did not improve from 2.18964\n",
      "600/600 [==============================] - 25s 42ms/step - loss: 2.1906 - accuracy: 0.1276 - val_loss: 2.1897 - val_accuracy: 0.1250\n",
      "Epoch 14/20\n",
      "599/600 [============================>.] - ETA: 0s - loss: 2.1904 - accuracy: 0.1223\n",
      "Epoch 14: val_loss did not improve from 2.18964\n",
      "600/600 [==============================] - 24s 40ms/step - loss: 2.1904 - accuracy: 0.1222 - val_loss: 2.1900 - val_accuracy: 0.1250\n",
      "Epoch 15/20\n",
      "599/600 [============================>.] - ETA: 0s - loss: 2.1906 - accuracy: 0.1241\n",
      "Epoch 15: val_loss did not improve from 2.18964\n",
      "600/600 [==============================] - 25s 42ms/step - loss: 2.1906 - accuracy: 0.1242 - val_loss: 2.1905 - val_accuracy: 0.1250\n",
      "Epoch 16/20\n",
      "599/600 [============================>.] - ETA: 0s - loss: 2.1907 - accuracy: 0.1259\n",
      "Epoch 16: val_loss did not improve from 2.18964\n",
      "600/600 [==============================] - 24s 40ms/step - loss: 2.1907 - accuracy: 0.1258 - val_loss: 2.1905 - val_accuracy: 0.1250\n",
      "Epoch 17/20\n",
      "599/600 [============================>.] - ETA: 0s - loss: 2.1906 - accuracy: 0.1245\n",
      "Epoch 17: val_loss did not improve from 2.18964\n",
      "600/600 [==============================] - 24s 41ms/step - loss: 2.1906 - accuracy: 0.1245 - val_loss: 2.1900 - val_accuracy: 0.1250\n",
      "Epoch 18/20\n",
      "599/600 [============================>.] - ETA: 0s - loss: 2.1908 - accuracy: 0.1233\n",
      "Epoch 18: val_loss did not improve from 2.18964\n",
      "600/600 [==============================] - 24s 41ms/step - loss: 2.1908 - accuracy: 0.1233 - val_loss: 2.1905 - val_accuracy: 0.1250\n",
      "Epoch 19/20\n",
      "599/600 [============================>.] - ETA: 0s - loss: 2.1904 - accuracy: 0.1241\n",
      "Epoch 19: val_loss did not improve from 2.18964\n",
      "600/600 [==============================] - 24s 40ms/step - loss: 2.1903 - accuracy: 0.1240 - val_loss: 2.1906 - val_accuracy: 0.1250\n",
      "Epoch 20/20\n",
      "599/600 [============================>.] - ETA: 0s - loss: 2.1906 - accuracy: 0.1263\n",
      "Epoch 20: val_loss did not improve from 2.18964\n",
      "600/600 [==============================] - 24s 40ms/step - loss: 2.1906 - accuracy: 0.1263 - val_loss: 2.1899 - val_accuracy: 0.1250\n",
      "Valiation Loss 2.1896419525146484 \n",
      " Valiation Accuracy 0.125\n",
      "Model: \"sequential_26\"\n",
      "_________________________________________________________________\n",
      " Layer (type)                Output Shape              Param #   \n",
      "=================================================================\n",
      " conv2d_227 (Conv2D)         (None, 64, 64, 16)        448       \n",
      "                                                                 \n",
      " max_pooling2d_52 (MaxPoolin  (None, 32, 32, 16)       0         \n",
      " g2D)                                                            \n",
      "                                                                 \n",
      " conv2d_228 (Conv2D)         (None, 32, 32, 32)        4640      \n",
      "                                                                 \n",
      " conv2d_229 (Conv2D)         (None, 32, 32, 48)        13872     \n",
      "                                                                 \n",
      " conv2d_230 (Conv2D)         (None, 32, 32, 64)        27712     \n",
      "                                                                 \n",
      " max_pooling2d_53 (MaxPoolin  (None, 16, 16, 64)       0         \n",
      " g2D)                                                            \n",
      "                                                                 \n",
      " conv2d_231 (Conv2D)         (None, 16, 16, 32)        18464     \n",
      "                                                                 \n",
      " conv2d_232 (Conv2D)         (None, 16, 16, 64)        18496     \n",
      "                                                                 \n",
      " conv2d_233 (Conv2D)         (None, 16, 16, 96)        55392     \n",
      "                                                                 \n",
      " conv2d_234 (Conv2D)         (None, 16, 16, 32)        27680     \n",
      "                                                                 \n",
      " conv2d_235 (Conv2D)         (None, 16, 16, 64)        18496     \n",
      "                                                                 \n",
      " conv2d_236 (Conv2D)         (None, 16, 16, 96)        55392     \n",
      "                                                                 \n",
      " conv2d_237 (Conv2D)         (None, 16, 16, 128)       110720    \n",
      "                                                                 \n",
      " conv2d_238 (Conv2D)         (None, 16, 16, 64)        73792     \n",
      "                                                                 \n",
      " conv2d_239 (Conv2D)         (None, 16, 16, 128)       73856     \n",
      "                                                                 \n",
      " conv2d_240 (Conv2D)         (None, 16, 16, 64)        73792     \n",
      "                                                                 \n",
      " conv2d_241 (Conv2D)         (None, 16, 16, 96)        55392     \n",
      "                                                                 \n",
      " conv2d_242 (Conv2D)         (None, 16, 16, 128)       110720    \n",
      "                                                                 \n",
      " conv2d_243 (Conv2D)         (None, 16, 16, 256)       295168    \n",
      "                                                                 \n",
      " conv2d_244 (Conv2D)         (None, 16, 16, 512)       1180160   \n",
      "                                                                 \n",
      " flatten_26 (Flatten)        (None, 131072)            0         \n",
      "                                                                 \n",
      " dense_52 (Dense)            (None, 256)               33554688  \n",
      "                                                                 \n",
      " dense_53 (Dense)            (None, 9)                 2313      \n",
      "                                                                 \n",
      "=================================================================\n",
      "Total params: 35,771,193\n",
      "Trainable params: 35,771,193\n",
      "Non-trainable params: 0\n",
      "_________________________________________________________________\n",
      "None\n",
      "Epoch 1/20\n",
      "600/600 [==============================] - ETA: 0s - loss: 10916.6025 - accuracy: 0.1256\n",
      "Epoch 1: val_loss improved from inf to 2.19002, saving model to weights/Model_4.h5\n",
      "600/600 [==============================] - 54s 88ms/step - loss: 10916.6025 - accuracy: 0.1256 - val_loss: 2.1900 - val_accuracy: 0.1250\n",
      "Epoch 2/20\n",
      "600/600 [==============================] - ETA: 0s - loss: 2.1906 - accuracy: 0.1302\n",
      "Epoch 2: val_loss did not improve from 2.19002\n",
      "600/600 [==============================] - 52s 87ms/step - loss: 2.1906 - accuracy: 0.1302 - val_loss: 2.1904 - val_accuracy: 0.1250\n",
      "Epoch 3/20\n",
      "600/600 [==============================] - ETA: 0s - loss: 2.1906 - accuracy: 0.1269\n",
      "Epoch 3: val_loss did not improve from 2.19002\n",
      "600/600 [==============================] - 50s 83ms/step - loss: 2.1906 - accuracy: 0.1269 - val_loss: 2.1909 - val_accuracy: 0.1250\n",
      "Epoch 4/20\n",
      "600/600 [==============================] - ETA: 0s - loss: 2.1907 - accuracy: 0.1204\n",
      "Epoch 4: val_loss did not improve from 2.19002\n",
      "600/600 [==============================] - 52s 86ms/step - loss: 2.1907 - accuracy: 0.1204 - val_loss: 2.1905 - val_accuracy: 0.1250\n",
      "Epoch 5/20\n",
      "600/600 [==============================] - ETA: 0s - loss: 2.1911 - accuracy: 0.1210\n",
      "Epoch 5: val_loss did not improve from 2.19002\n",
      "600/600 [==============================] - 52s 86ms/step - loss: 2.1911 - accuracy: 0.1210 - val_loss: 2.1900 - val_accuracy: 0.1250\n",
      "Epoch 6/20\n",
      "600/600 [==============================] - ETA: 0s - loss: 2.1908 - accuracy: 0.1234\n",
      "Epoch 6: val_loss did not improve from 2.19002\n",
      "600/600 [==============================] - 50s 83ms/step - loss: 2.1908 - accuracy: 0.1234 - val_loss: 2.1903 - val_accuracy: 0.1250\n",
      "Epoch 7/20\n",
      "600/600 [==============================] - ETA: 0s - loss: 2.1906 - accuracy: 0.1258\n",
      "Epoch 7: val_loss did not improve from 2.19002\n",
      "600/600 [==============================] - 50s 83ms/step - loss: 2.1906 - accuracy: 0.1258 - val_loss: 2.1903 - val_accuracy: 0.1250\n",
      "Epoch 8/20\n",
      "600/600 [==============================] - ETA: 0s - loss: 2.1910 - accuracy: 0.1263\n",
      "Epoch 8: val_loss did not improve from 2.19002\n",
      "600/600 [==============================] - 52s 86ms/step - loss: 2.1910 - accuracy: 0.1263 - val_loss: 2.1904 - val_accuracy: 0.1250\n",
      "Epoch 9/20\n",
      "600/600 [==============================] - ETA: 0s - loss: 2.1908 - accuracy: 0.1231\n",
      "Epoch 9: val_loss did not improve from 2.19002\n",
      "600/600 [==============================] - 52s 86ms/step - loss: 2.1908 - accuracy: 0.1231 - val_loss: 2.1903 - val_accuracy: 0.1250\n",
      "Epoch 10/20\n",
      "600/600 [==============================] - ETA: 0s - loss: 2.1905 - accuracy: 0.1222\n",
      "Epoch 10: val_loss did not improve from 2.19002\n",
      "600/600 [==============================] - 52s 86ms/step - loss: 2.1905 - accuracy: 0.1222 - val_loss: 2.1901 - val_accuracy: 0.1250\n",
      "Epoch 11/20\n",
      "600/600 [==============================] - ETA: 0s - loss: 2.1907 - accuracy: 0.1255\n",
      "Epoch 11: val_loss improved from 2.19002 to 2.18961, saving model to weights/Model_4.h5\n",
      "600/600 [==============================] - 51s 85ms/step - loss: 2.1907 - accuracy: 0.1255 - val_loss: 2.1896 - val_accuracy: 0.1250\n",
      "Epoch 12/20\n",
      "600/600 [==============================] - ETA: 0s - loss: 2.1909 - accuracy: 0.1211\n",
      "Epoch 12: val_loss did not improve from 2.18961\n",
      "600/600 [==============================] - 51s 84ms/step - loss: 2.1909 - accuracy: 0.1211 - val_loss: 2.1902 - val_accuracy: 0.1250\n",
      "Epoch 13/20\n",
      "600/600 [==============================] - ETA: 0s - loss: 2.1908 - accuracy: 0.1238\n",
      "Epoch 13: val_loss did not improve from 2.18961\n",
      "600/600 [==============================] - 50s 83ms/step - loss: 2.1908 - accuracy: 0.1238 - val_loss: 2.1914 - val_accuracy: 0.1250\n",
      "Epoch 14/20\n",
      "600/600 [==============================] - ETA: 0s - loss: 2.1909 - accuracy: 0.1239\n",
      "Epoch 14: val_loss did not improve from 2.18961\n",
      "600/600 [==============================] - 50s 83ms/step - loss: 2.1909 - accuracy: 0.1239 - val_loss: 2.1899 - val_accuracy: 0.1250\n",
      "Epoch 15/20\n",
      "600/600 [==============================] - ETA: 0s - loss: 2.1909 - accuracy: 0.1222\n",
      "Epoch 15: val_loss did not improve from 2.18961\n",
      "600/600 [==============================] - 52s 87ms/step - loss: 2.1909 - accuracy: 0.1222 - val_loss: 2.1897 - val_accuracy: 0.1250\n",
      "Epoch 16/20\n",
      "600/600 [==============================] - ETA: 0s - loss: 2.1906 - accuracy: 0.1206\n",
      "Epoch 16: val_loss did not improve from 2.18961\n",
      "600/600 [==============================] - 53s 88ms/step - loss: 2.1906 - accuracy: 0.1206 - val_loss: 2.1902 - val_accuracy: 0.1250\n",
      "Epoch 17/20\n",
      "600/600 [==============================] - ETA: 0s - loss: 2.1908 - accuracy: 0.1224\n",
      "Epoch 17: val_loss did not improve from 2.18961\n",
      "600/600 [==============================] - 50s 84ms/step - loss: 2.1908 - accuracy: 0.1224 - val_loss: 2.1899 - val_accuracy: 0.1250\n",
      "Epoch 18/20\n",
      "600/600 [==============================] - ETA: 0s - loss: 2.1909 - accuracy: 0.1236\n",
      "Epoch 18: val_loss did not improve from 2.18961\n",
      "600/600 [==============================] - 53s 88ms/step - loss: 2.1909 - accuracy: 0.1236 - val_loss: 2.1903 - val_accuracy: 0.1250\n",
      "Epoch 19/20\n",
      "600/600 [==============================] - ETA: 0s - loss: 2.1908 - accuracy: 0.1221\n",
      "Epoch 19: val_loss did not improve from 2.18961\n",
      "600/600 [==============================] - 52s 87ms/step - loss: 2.1908 - accuracy: 0.1221 - val_loss: 2.1902 - val_accuracy: 0.1250\n",
      "Epoch 20/20\n",
      "600/600 [==============================] - ETA: 0s - loss: 2.1902 - accuracy: 0.1259\n",
      "Epoch 20: val_loss did not improve from 2.18961\n",
      "600/600 [==============================] - 50s 84ms/step - loss: 2.1902 - accuracy: 0.1259 - val_loss: 2.1912 - val_accuracy: 0.1250\n",
      "Valiation Loss 2.1896119117736816 \n",
      " Valiation Accuracy 0.125\n",
      "****************************************\n",
      "ensemble_accuracy_score =  0.568125\n",
      "****************************************\n"
     ]
    },
    {
     "data": {
      "image/png": "[encoded data removed]",
      "text/plain": [
       "<Figure size 432x288 with 1 Axes>"
      ]
     },
     "metadata": {},
     "output_type": "display_data"
    },
    {
     "data": {
      "image/png": "[encoded data removed]",
      "text/plain": [
       "<Figure size 432x288 with 1 Axes>"
      ]
     },
     "metadata": {},
     "output_type": "display_data"
    },
    {
     "data": {
      "image/png": "[encoded data removed]",
      "text/plain": [
       "<Figure size 432x288 with 1 Axes>"
      ]
     },
     "metadata": {},
     "output_type": "display_data"
    },
    {
     "data": {
      "image/png": "[encoded data removed]",
      "text/plain": [
       "<Figure size 432x288 with 1 Axes>"
      ]
     },
     "metadata": {},
     "output_type": "display_data"
    }
   ],
   "source": [
    "# learner 1\n",
    "creaing_base_learners(1, class_labels, shape, epochs, \"Model_1\")\n",
    "\n",
    "# learner 2\n",
    "creaing_base_learners(2, class_labels, shape, epochs, \"Model_2\")\n",
    "\n",
    "# learner 3\n",
    "creaing_base_learners(3, class_labels, shape, epochs, \"Model_3\")\n",
    "\n",
    "# learner 4\n",
    "creaing_base_learners(4, class_labels, shape, epochs, \"Model_4\")\n",
    "\n",
    "# average predictions\n",
    "ensemble_prediction(list_models)\n"
   ]
  },
  {
   "cell_type": "code",
   "execution_count": null,
   "metadata": {
    "id": "DmRvfNHz_5fA"
   },
   "outputs": [],
   "source": []
  },
  {
   "cell_type": "markdown",
   "metadata": {
    "id": "dZSvJPEuUoL9"
   },
   "source": [
    "Variability_in_the_train_Data"
   ]
  },
  {
   "cell_type": "markdown",
   "metadata": {
    "id": "2_W52fGAUtTU"
   },
   "source": [
    "Creating 9 same base learners which are trained over a random subset with their average output probabiliteis"
   ]
  },
  {
   "cell_type": "code",
   "execution_count": null,
   "metadata": {
    "colab": {
     "base_uri": "https://localhost:8080/",
     "height": 393
    },
    "id": "KvP-fJFDlTsr",
    "outputId": "7e8af766-f67d-48b7-f105-481d73bb9032"
   },
   "outputs": [
    {
     "ename": "TypeError",
     "evalue": "ignored",
     "output_type": "error",
     "traceback": [
      "\u001b[0;31m---------------------------------------------------------------------------\u001b[0m",
      "\u001b[0;31mTypeError\u001b[0m                                 Traceback (most recent call last)",
      "\u001b[0;32m<ipython-input-126-82d8c6033eb3>\u001b[0m in \u001b[0;36m<module>\u001b[0;34m()\u001b[0m\n\u001b[1;32m     11\u001b[0m   \u001b[0mnewTrainingX\u001b[0m\u001b[0;34m,\u001b[0m \u001b[0mnewTrainingY\u001b[0m \u001b[0;34m=\u001b[0m \u001b[0mtrainX\u001b[0m\u001b[0;34m[\u001b[0m\u001b[0mrandom_set\u001b[0m\u001b[0;34m]\u001b[0m\u001b[0;34m,\u001b[0m \u001b[0mtrainX\u001b[0m\u001b[0;34m[\u001b[0m\u001b[0mrandom_set\u001b[0m\u001b[0;34m]\u001b[0m\u001b[0;34m\u001b[0m\u001b[0;34m\u001b[0m\u001b[0m\n\u001b[1;32m     12\u001b[0m \u001b[0;34m\u001b[0m\u001b[0m\n\u001b[0;32m---> 13\u001b[0;31m   \u001b[0mm\u001b[0m \u001b[0;34m=\u001b[0m \u001b[0mbase_learner_model_1\u001b[0m\u001b[0;34m(\u001b[0m\u001b[0mclass_labels\u001b[0m\u001b[0;34m,\u001b[0m \u001b[0mshape\u001b[0m\u001b[0;34m)\u001b[0m\u001b[0;34m\u001b[0m\u001b[0;34m\u001b[0m\u001b[0m\n\u001b[0m\u001b[1;32m     14\u001b[0m   \u001b[0mmodels\u001b[0m\u001b[0;34m.\u001b[0m\u001b[0mappend\u001b[0m\u001b[0;34m(\u001b[0m\u001b[0mm\u001b[0m\u001b[0;34m)\u001b[0m\u001b[0;34m\u001b[0m\u001b[0;34m\u001b[0m\u001b[0m\n\u001b[1;32m     15\u001b[0m \u001b[0;34m\u001b[0m\u001b[0m\n",
      "\u001b[0;32m<ipython-input-118-f995b332968d>\u001b[0m in \u001b[0;36mbase_learner_model_1\u001b[0;34m(class_label, input_model)\u001b[0m\n\u001b[1;32m      6\u001b[0m \u001b[0;34m\u001b[0m\u001b[0m\n\u001b[1;32m      7\u001b[0m   \u001b[0;31m# 1st Layer\u001b[0m\u001b[0;34m\u001b[0m\u001b[0;34m\u001b[0m\u001b[0;34m\u001b[0m\u001b[0m\n\u001b[0;32m----> 8\u001b[0;31m   \u001b[0mbase_learner_1\u001b[0m\u001b[0;34m.\u001b[0m\u001b[0madd\u001b[0m\u001b[0;34m(\u001b[0m\u001b[0mConv2D\u001b[0m\u001b[0;34m(\u001b[0m\u001b[0;36m16\u001b[0m\u001b[0;34m,\u001b[0m \u001b[0;34m(\u001b[0m\u001b[0;36m3\u001b[0m\u001b[0;34m,\u001b[0m\u001b[0;36m3\u001b[0m\u001b[0;34m)\u001b[0m\u001b[0;34m,\u001b[0m \u001b[0minput_shape\u001b[0m\u001b[0;34m=\u001b[0m\u001b[0minput_model\u001b[0m\u001b[0;34m,\u001b[0m \u001b[0mactivation\u001b[0m \u001b[0;34m=\u001b[0m \u001b[0;34m'relu'\u001b[0m\u001b[0;34m,\u001b[0m \u001b[0mpadding\u001b[0m\u001b[0;34m=\u001b[0m \u001b[0;34m'same'\u001b[0m\u001b[0;34m)\u001b[0m\u001b[0;34m)\u001b[0m\u001b[0;34m\u001b[0m\u001b[0;34m\u001b[0m\u001b[0m\n\u001b[0m\u001b[1;32m      9\u001b[0m   \u001b[0mbase_learner_1\u001b[0m\u001b[0;34m.\u001b[0m\u001b[0madd\u001b[0m\u001b[0;34m(\u001b[0m\u001b[0mMaxPooling2D\u001b[0m\u001b[0;34m(\u001b[0m\u001b[0;36m2\u001b[0m\u001b[0;34m,\u001b[0m \u001b[0;36m2\u001b[0m\u001b[0;34m)\u001b[0m\u001b[0;34m)\u001b[0m\u001b[0;34m\u001b[0m\u001b[0;34m\u001b[0m\u001b[0m\n\u001b[1;32m     10\u001b[0m \u001b[0;34m\u001b[0m\u001b[0m\n",
      "\u001b[0;32m/usr/local/lib/python3.7/dist-packages/keras/layers/convolutional.py\u001b[0m in \u001b[0;36m__init__\u001b[0;34m(self, filters, kernel_size, strides, padding, data_format, dilation_rate, groups, activation, use_bias, kernel_initializer, bias_initializer, kernel_regularizer, bias_regularizer, activity_regularizer, kernel_constraint, bias_constraint, **kwargs)\u001b[0m\n\u001b[1;32m    689\u001b[0m         \u001b[0mkernel_constraint\u001b[0m\u001b[0;34m=\u001b[0m\u001b[0mconstraints\u001b[0m\u001b[0;34m.\u001b[0m\u001b[0mget\u001b[0m\u001b[0;34m(\u001b[0m\u001b[0mkernel_constraint\u001b[0m\u001b[0;34m)\u001b[0m\u001b[0;34m,\u001b[0m\u001b[0;34m\u001b[0m\u001b[0;34m\u001b[0m\u001b[0m\n\u001b[1;32m    690\u001b[0m         \u001b[0mbias_constraint\u001b[0m\u001b[0;34m=\u001b[0m\u001b[0mconstraints\u001b[0m\u001b[0;34m.\u001b[0m\u001b[0mget\u001b[0m\u001b[0;34m(\u001b[0m\u001b[0mbias_constraint\u001b[0m\u001b[0;34m)\u001b[0m\u001b[0;34m,\u001b[0m\u001b[0;34m\u001b[0m\u001b[0;34m\u001b[0m\u001b[0m\n\u001b[0;32m--> 691\u001b[0;31m         **kwargs)\n\u001b[0m\u001b[1;32m    692\u001b[0m \u001b[0;34m\u001b[0m\u001b[0m\n\u001b[1;32m    693\u001b[0m \u001b[0;34m\u001b[0m\u001b[0m\n",
      "\u001b[0;32m/usr/local/lib/python3.7/dist-packages/keras/layers/convolutional.py\u001b[0m in \u001b[0;36m__init__\u001b[0;34m(self, rank, filters, kernel_size, strides, padding, data_format, dilation_rate, groups, activation, use_bias, kernel_initializer, bias_initializer, kernel_regularizer, bias_regularizer, activity_regularizer, kernel_constraint, bias_constraint, trainable, name, conv_op, **kwargs)\u001b[0m\n\u001b[1;32m    127\u001b[0m         \u001b[0mname\u001b[0m\u001b[0;34m=\u001b[0m\u001b[0mname\u001b[0m\u001b[0;34m,\u001b[0m\u001b[0;34m\u001b[0m\u001b[0;34m\u001b[0m\u001b[0m\n\u001b[1;32m    128\u001b[0m         \u001b[0mactivity_regularizer\u001b[0m\u001b[0;34m=\u001b[0m\u001b[0mregularizers\u001b[0m\u001b[0;34m.\u001b[0m\u001b[0mget\u001b[0m\u001b[0;34m(\u001b[0m\u001b[0mactivity_regularizer\u001b[0m\u001b[0;34m)\u001b[0m\u001b[0;34m,\u001b[0m\u001b[0;34m\u001b[0m\u001b[0;34m\u001b[0m\u001b[0m\n\u001b[0;32m--> 129\u001b[0;31m         **kwargs)\n\u001b[0m\u001b[1;32m    130\u001b[0m     \u001b[0mself\u001b[0m\u001b[0;34m.\u001b[0m\u001b[0mrank\u001b[0m \u001b[0;34m=\u001b[0m \u001b[0mrank\u001b[0m\u001b[0;34m\u001b[0m\u001b[0;34m\u001b[0m\u001b[0m\n\u001b[1;32m    131\u001b[0m \u001b[0;34m\u001b[0m\u001b[0m\n",
      "\u001b[0;32m/usr/local/lib/python3.7/dist-packages/tensorflow/python/training/tracking/base.py\u001b[0m in \u001b[0;36m_method_wrapper\u001b[0;34m(self, *args, **kwargs)\u001b[0m\n\u001b[1;32m    627\u001b[0m     \u001b[0mself\u001b[0m\u001b[0;34m.\u001b[0m\u001b[0m_self_setattr_tracking\u001b[0m \u001b[0;34m=\u001b[0m \u001b[0;32mFalse\u001b[0m  \u001b[0;31m# pylint: disable=protected-access\u001b[0m\u001b[0;34m\u001b[0m\u001b[0;34m\u001b[0m\u001b[0m\n\u001b[1;32m    628\u001b[0m     \u001b[0;32mtry\u001b[0m\u001b[0;34m:\u001b[0m\u001b[0;34m\u001b[0m\u001b[0;34m\u001b[0m\u001b[0m\n\u001b[0;32m--> 629\u001b[0;31m       \u001b[0mresult\u001b[0m \u001b[0;34m=\u001b[0m \u001b[0mmethod\u001b[0m\u001b[0;34m(\u001b[0m\u001b[0mself\u001b[0m\u001b[0;34m,\u001b[0m \u001b[0;34m*\u001b[0m\u001b[0margs\u001b[0m\u001b[0;34m,\u001b[0m \u001b[0;34m**\u001b[0m\u001b[0mkwargs\u001b[0m\u001b[0;34m)\u001b[0m\u001b[0;34m\u001b[0m\u001b[0;34m\u001b[0m\u001b[0m\n\u001b[0m\u001b[1;32m    630\u001b[0m     \u001b[0;32mfinally\u001b[0m\u001b[0;34m:\u001b[0m\u001b[0;34m\u001b[0m\u001b[0;34m\u001b[0m\u001b[0m\n\u001b[1;32m    631\u001b[0m       \u001b[0mself\u001b[0m\u001b[0;34m.\u001b[0m\u001b[0m_self_setattr_tracking\u001b[0m \u001b[0;34m=\u001b[0m \u001b[0mprevious_value\u001b[0m  \u001b[0;31m# pylint: disable=protected-access\u001b[0m\u001b[0;34m\u001b[0m\u001b[0;34m\u001b[0m\u001b[0m\n",
      "\u001b[0;32m/usr/local/lib/python3.7/dist-packages/keras/engine/base_layer.py\u001b[0m in \u001b[0;36m__init__\u001b[0;34m(self, trainable, name, dtype, dynamic, **kwargs)\u001b[0m\n\u001b[1;32m    441\u001b[0m         \u001b[0;32melse\u001b[0m\u001b[0;34m:\u001b[0m\u001b[0;34m\u001b[0m\u001b[0;34m\u001b[0m\u001b[0m\n\u001b[1;32m    442\u001b[0m           \u001b[0mbatch_size\u001b[0m \u001b[0;34m=\u001b[0m \u001b[0;32mNone\u001b[0m\u001b[0;34m\u001b[0m\u001b[0;34m\u001b[0m\u001b[0m\n\u001b[0;32m--> 443\u001b[0;31m         \u001b[0mbatch_input_shape\u001b[0m \u001b[0;34m=\u001b[0m \u001b[0;34m(\u001b[0m\u001b[0mbatch_size\u001b[0m\u001b[0;34m,\u001b[0m\u001b[0;34m)\u001b[0m \u001b[0;34m+\u001b[0m \u001b[0mtuple\u001b[0m\u001b[0;34m(\u001b[0m\u001b[0mkwargs\u001b[0m\u001b[0;34m[\u001b[0m\u001b[0;34m'input_shape'\u001b[0m\u001b[0;34m]\u001b[0m\u001b[0;34m)\u001b[0m\u001b[0;34m\u001b[0m\u001b[0;34m\u001b[0m\u001b[0m\n\u001b[0m\u001b[1;32m    444\u001b[0m       \u001b[0mself\u001b[0m\u001b[0;34m.\u001b[0m\u001b[0m_batch_input_shape\u001b[0m \u001b[0;34m=\u001b[0m \u001b[0mbatch_input_shape\u001b[0m\u001b[0;34m\u001b[0m\u001b[0;34m\u001b[0m\u001b[0m\n\u001b[1;32m    445\u001b[0m \u001b[0;34m\u001b[0m\u001b[0m\n",
      "\u001b[0;31mTypeError\u001b[0m: 'function' object is not iterable"
     ]
    }
   ],
   "source": [
    "from numpy.core.fromnumeric import shape\n",
    "# from scipy.sparse.construct import random\n",
    "import random\n",
    "\n",
    "models = []\n",
    "scores = []\n",
    "learners = 10\n",
    "\n",
    "for i in range(10):\n",
    "  random_set = random.sample(range(training_images), int(training_images*0.5))\n",
    "  newTrainingX, newTrainingY = trainX[random_set], trainX[random_set]\n",
    "\n",
    "  m = base_learner_model_1(class_labels, shape)\n",
    "  models.append(m)\n",
    "\n",
    "  model_weights = compilation_model(models[i], \"Model_1_ensemble\"+str(i), epochs = epochs, trainX = newTrainingX, trainY= newTrainingY)\n",
    "\n",
    "  models[i].load_weights(model_weights)\n",
    "  result = evaluation_model(models[i])\n",
    "  scores.append(result)\n",
    "    \n",
    "score_ensemble = ensemble_prediction(models)\n"
   ]
  },
  {
   "cell_type": "code",
   "execution_count": null,
   "metadata": {
    "colab": {
     "base_uri": "https://localhost:8080/",
     "height": 36
    },
    "id": "oeDy-GIXlNhb",
    "outputId": "fd49bce8-f5bc-4fdd-93f8-232fa6892cfa"
   },
   "outputs": [
    {
     "data": {
      "application/vnd.google.colaboratory.intrinsic+json": {
       "type": "string"
      },
      "text/plain": [
       "'\\nDue to time constraint in submission date I was not able to complete last part of evaluation where model 1 will be implemented for random selection of images\\n'"
      ]
     },
     "execution_count": 1,
     "metadata": {},
     "output_type": "execute_result"
    }
   ],
   "source": [
    "'''\n",
    "Due to time constraint in submission date I was not able to complete last part of evaluation where model 1 will be implemented for random selection of images\n",
    "'''"
   ]
  },
  {
   "cell_type": "code",
   "execution_count": null,
   "metadata": {
    "id": "0sVDCSXlLwdC"
   },
   "outputs": [],
   "source": [
    "# ******************************************************** END *********************************************************"
   ]
  },
  {
   "cell_type": "code",
   "execution_count": null,
   "metadata": {
    "id": "Gv8v-KmvLwkh"
   },
   "outputs": [],
   "source": []
  },
  {
   "cell_type": "code",
   "execution_count": null,
   "metadata": {
    "id": "soNCCAYmLwny"
   },
   "outputs": [],
   "source": []
  }
 ],
 "metadata": {
  "accelerator": "GPU",
  "colab": {
   "collapsed_sections": [],
   "name": "Part_A_2.ipynb",
   "provenance": []
  },
  "kernelspec": {
   "display_name": "Python 3",
   "language": "python",
   "name": "python3"
  },
  "language_info": {
   "codemirror_mode": {
    "name": "ipython",
    "version": 3
   },
   "file_extension": ".py",
   "mimetype": "text/x-python",
   "name": "python",
   "nbconvert_exporter": "python",
   "pygments_lexer": "ipython3",
   "version": "3.8.8"
  }
 },
 "nbformat": 4,
 "nbformat_minor": 1
}
