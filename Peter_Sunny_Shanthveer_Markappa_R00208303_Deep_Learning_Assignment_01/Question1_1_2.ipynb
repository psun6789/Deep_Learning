{
  "cells": [
    {
      "cell_type": "code",
      "execution_count": 1,
      "metadata": {
        "id": "-09tQYiDr0Gm",
        "colab": {
          "base_uri": "https://localhost:8080/",
          "height": 35
        },
        "outputId": "56bd332a-d2fb-4cb2-e3e4-0f1161ba5a2c"
      },
      "outputs": [
        {
          "output_type": "execute_result",
          "data": {
            "text/plain": [
              "'\\nName : Peter Sunny Shanthveer Markappa\\nStudent Number: R00208303\\nAssignemnt : 01\\nSubject: Deep Learning\\nSubmission Date: 03- April - 2022\\n'"
            ],
            "application/vnd.google.colaboratory.intrinsic+json": {
              "type": "string"
            }
          },
          "metadata": {},
          "execution_count": 1
        }
      ],
      "source": [
        "'''\n",
        "Name : Peter Sunny Shanthveer Markappa\n",
        "Student Number: R00208303\n",
        "Assignemnt : 01\n",
        "Subject: Deep Learning\n",
        "Submission Date: 03- April - 2022\n",
        "'''\n",
        "\n",
        "# two layer"
      ]
    },
    {
      "cell_type": "code",
      "execution_count": null,
      "metadata": {
        "colab": {
          "base_uri": "https://localhost:8080/"
        },
        "id": "Q0Xr-Ikqr8Zu",
        "outputId": "1829c25e-bbad-43c9-83ac-63308f553ca8"
      },
      "outputs": [
        {
          "output_type": "stream",
          "name": "stdout",
          "text": [
            "2.8.0\n"
          ]
        }
      ],
      "source": [
        "import tensorflow as tf\n",
        "print(tf.__version__)\n",
        "\n",
        "from keras.utils import np_utils\n",
        "import matplotlib.pyplot as plt\n",
        "\n",
        "from sklearn import datasets\n",
        "from sklearn import preprocessing\n",
        "import tensorflow as tf\n",
        "from numpy import exp\n",
        "import numpy as np\n"
      ]
    },
    {
      "cell_type": "code",
      "source": [
        "def softmax(vector):\n",
        "    e = tf.exp(vector, name='exp')\n",
        "    return e / tf.math.reduce_sum(e, keepdims=1, name=None, axis=0)"
      ],
      "metadata": {
        "id": "EZeiwgU9qLKk"
      },
      "execution_count": null,
      "outputs": []
    },
    {
      "cell_type": "code",
      "source": [
        "def forward_pass(x, w1, b1, w2, b2, w3, b3):\n",
        "    # We need to mutliply each training example by the weights and add bias\n",
        "    y_pred = tf.matmul(x, tf.transpose(w1)) + b1\n",
        "\n",
        "    relu_res = tf.keras.activations.relu(y_pred)\n",
        "    # print(\"relu_res = \", relu_res.shape)\n",
        "\n",
        "    y_pred1 = tf.matmul(relu_res, tf.transpose(w2)) + b2\n",
        "    relu_res1 = tf.keras.activations.relu(y_pred1)\n",
        "    # print(\"relu_res1 = \", relu_res1.shape)\n",
        "\n",
        "\n",
        "    y_pred2 = tf.matmul(relu_res1,tf.transpose(w3)) + b3\n",
        "    act = softmax(y_pred2)\n",
        "    # act = tf.keras.activations.softmax(y_pred2)\n",
        "    \n",
        "    return act"
      ],
      "metadata": {
        "id": "yz7r-ogOqWh3"
      },
      "execution_count": null,
      "outputs": []
    },
    {
      "cell_type": "code",
      "source": [
        "def calculate_accuracy(y_pred, tr_y):\n",
        "    # Round the predictions by the logistical unit to either 1 or 0\n",
        "    # predictions = tf.round(y_pred)\n",
        "\n",
        "    # print(\"accuraty tr_y\",tr_y.shape )\n",
        "    # print(\"before y_pred\",y_pred.shape )\n",
        "\n",
        "    predictions_y_pred = tf.argmax(y_pred, axis=0)\n",
        "    # print(\"predictions_y_pred\", predictions_y_pred)\n",
        "    \n",
        "    predictions_tr_y = tf.argmax(tr_y, axis=0)\n",
        "    # print(\"predictions_tr_y\", predictions_tr_y)\n",
        "\n",
        "    predictions_correct = tf.cast(tf.equal(tf.transpose(predictions_y_pred), predictions_tr_y), tf.dtypes.float64)\n",
        "    \n",
        "    # # Finally, we just determine the mean value of predictions_correct\n",
        "    accuracy = tf.reduce_mean(predictions_correct)\n",
        "    \n",
        "    return accuracy"
      ],
      "metadata": {
        "id": "RPsZ0R3RqYLo"
      },
      "execution_count": null,
      "outputs": []
    },
    {
      "cell_type": "code",
      "source": [
        "def cross_entropy(tr_y, y_pred):\n",
        "    # return (- 1 / tr_y.shape[0]) * tf.math.reduce_sum(tr_y * tf.math.log(y_pred) + (1 - tr_y) * (tf.math.log(1 - y_pred)))\n",
        "    # print(\"tr_y Cross entropy\", tr_y)\n",
        "    # print(\"try_pred Cross entropy\", y_pred)\n",
        "\n",
        "    # print(\"Reduce Sum \", (tf.math.reduce_sum(tr_y * tf.math.log(y_pred) + (1 - tr_y) * (tf.math.log(1 - y_pred)))))\n",
        "    # print(\"without Reduce Sum \", tr_y * tf.math.log(y_pred) + (1 - tr_y) * (tf.math.log(1 - y_pred)))\n",
        "\n",
        "    return (-1/tr_y.shape[0]) * (tf.math.reduce_sum(tr_y * tf.math.log(y_pred) + (1 - tr_y) * (tf.math.log(1 - y_pred))))\n"
      ],
      "metadata": {
        "id": "79dNAbSiqarL"
      },
      "execution_count": null,
      "outputs": []
    },
    {
      "cell_type": "code",
      "execution_count": null,
      "metadata": {
        "id": "kPs7_BUdr8cv"
      },
      "outputs": [],
      "source": [
        "def main():\n",
        "    \n",
        "    fashion_mnist = tf.keras.datasets.fashion_mnist\n",
        "\n",
        "    # load the training and test data    \n",
        "    (tr_x, tr_y), (te_x, te_y) = fashion_mnist.load_data()\n",
        "\n",
        "    # reshape the feature data\n",
        "    tr_x = tr_x.reshape(tr_x.shape[0], 784)\n",
        "    te_x = te_x.reshape(te_x.shape[0], 784)\n",
        "\n",
        "    # noramlise feature data\n",
        "    tr_x = tr_x / 255.0\n",
        "    te_x = te_x / 255.0\n",
        "\n",
        "\n",
        "    # one hot encode the training labels and get the transpose\n",
        "    tr_y = np_utils.to_categorical(tr_y, 10)\n",
        "    tr_y = tr_y.T\n",
        "#     print (\"Shape of training labels after transpose \", tr_y.shape)\n",
        "\n",
        "    # one hot encode the test labels and get the transpose\n",
        "    te_y = np_utils.to_categorical(te_y, 10)\n",
        "    te_y = te_y.T\n",
        "#     print (\"Shape of testing labels after transpose \", te_y.shape)\n",
        "    \n",
        "    \n",
        "      # array is used to store change in cost function for each iteration of GD\n",
        "    trainingLoss= []\n",
        "    validationLoss= []\n",
        "    trainingAccuracies = []\n",
        "    validationAccuracies = []\n",
        "\n",
        "\n",
        "    \n",
        "    learning_rate = 0.01\n",
        "    num_Iterations = 500\n",
        "    \n",
        "    adam_optimizer = tf.keras.optimizers.Adam(learning_rate=0.001)    \n",
        "#     cross_entropy = tf.keras.losses.categorical_crossentropy()\n",
        "    \n",
        "    \n",
        "    #  X_digits, y_digits = loadData()    \n",
        "    tr_x = tf.convert_to_tensor(tr_x, tf.dtypes.float64)\n",
        "    te_x = tf.convert_to_tensor(te_x, tf.dtypes.float64)\n",
        "    tr_y = tf.convert_to_tensor(tr_y, tf.dtypes.float64)\n",
        "    te_y = tf.convert_to_tensor(te_y, tf.dtypes.float64)\n",
        "    \n",
        "    # We need a coefficient for each of the features and a single bias value\n",
        "    # Notice we create a column vector of weights all initialized to small random values\n",
        "\n",
        "    w1 = tf.Variable(tf.random.normal( [300, 784] , mean=0.0, stddev=0.05,dtype=tf.dtypes.float64))\n",
        "    b1 = tf.Variable(tf.random.normal([300], dtype=tf.dtypes.float64))   \n",
        "\n",
        "    w2 = tf.Variable(tf.random.normal([100, 300] , mean=0.1, stddev=0.08,dtype=tf.dtypes.float64))\n",
        "    b2 = tf.Variable(tf.random.normal([100], dtype=tf.dtypes.float64))\n",
        "\n",
        "    w3 = tf.Variable(tf.random.normal([10, 100] , mean=0.2, stddev=0.03,dtype=tf.dtypes.float64))\n",
        "    b3 = tf.Variable(tf.random.normal([10], dtype=tf.dtypes.float64))\n",
        "\n",
        "\n",
        "\n",
        "    \n",
        "    # Splitting the Training data into two parts\n",
        "    # 1) traning 2) Validation\n",
        "\n",
        "    tr_x_Training = tr_x[ : 48000, :]\n",
        "    tr_x_Validation = tr_x[ 48000:, :]\n",
        "\n",
        "    tr_y_Training = tr_y[ : , : 48000]\n",
        "    tr_y_Validation = tr_y[ : , 48000 :]\n",
        "\n",
        "\n",
        "    # Iterate our training loop\n",
        "    for i in range(1000):\n",
        "        \n",
        "        # Create an instance of GradientTape to monitor the forward pass\n",
        "        # and calcualte the gradients for each of the variables m and c\n",
        "        \n",
        "        with tf.GradientTape() as tape:\n",
        "\n",
        "            # Training\n",
        "            y_pred_training = forward_pass(tr_x_Training, w1, b1, w2, b2, w3, b3)\n",
        "\n",
        "            # print(\"before cross entropy tr_y_Training\",tr_y_Training.shape )\n",
        "            # print(\"before cross entropy y_pred_training\",y_pred_training.shape )\n",
        "\n",
        "            training_Loss = cross_entropy(tf.transpose(tr_y_Training), y_pred_training)\n",
        "            trainingLoss.append(training_Loss)\n",
        "        \n",
        "        gradients = tape.gradient(training_Loss, [w1, b1, w2, b2, w3, b3])\n",
        "\n",
        "        training_accuracy = calculate_accuracy(tf.transpose(y_pred_training), tr_y_Training)\n",
        "        trainingAccuracies.append(training_accuracy)\n",
        "        \n",
        "        adam_optimizer.apply_gradients(zip(gradients, [w1, b1, w2, b2, w3, b3]))\n",
        "        \n",
        "\n",
        "        # # Validation\n",
        "        y_pred_validation = forward_pass(tr_x_Validation, w1, b1, w2, b2, w3, b3)\n",
        "        validation_Loss = cross_entropy(tf.transpose(tr_y_Validation), y_pred_validation)\n",
        "        validation_accuracy = calculate_accuracy(tf.transpose(y_pred_validation), tr_y_Validation)\n",
        "        validationLoss.append(validation_Loss)    \n",
        "        validationAccuracies.append(validation_accuracy)\n",
        "\n",
        "        if i % 50 == 0:\n",
        "          print (\"Iteration \", i, \"\\n\")\n",
        "          print(\": Training Loss = \",training_Loss.numpy(), \": Validation Loss = \",validation_Loss.numpy())\n",
        "          print( \"Training Accuracies: \", training_accuracy.numpy(), \"Validation Accuracies: \", validation_accuracy.numpy())\n",
        "          print (\"----------------\")\n",
        "\n",
        "\n",
        "\n",
        "    # Test Data\n",
        "    y_pred = forward_pass(te_x, w1, b1, w2, b2, w3, b3)\n",
        "    currentLoss = cross_entropy(tf.transpose(te_y), y_pred)\n",
        "    test_accuracy = calculate_accuracy(tf.transpose(y_pred), te_y) \n",
        "    print (\"Test Accuracy : \", test_accuracy)\n",
        "\n",
        "\n",
        "    plt.plot(trainingLoss, label=\"Train Loss\")        \n",
        "    plt.plot(validationLoss, label=\"Val Loss\")\n",
        "    plt.legend()\n",
        "    plt.show()\n",
        "\n",
        "    plt.plot(trainingAccuracies, label=\"Train Acc\")\n",
        "    plt.plot(validationAccuracies, label=\"Val Acc\")\n",
        "    plt.legend()\n",
        "    plt.show()\n",
        "\n"
      ]
    },
    {
      "cell_type": "code",
      "execution_count": null,
      "metadata": {
        "colab": {
          "base_uri": "https://localhost:8080/",
          "height": 1000
        },
        "id": "Onj72hm1r8f_",
        "outputId": "378de6d5-a899-4987-d0a0-e650eea856ae"
      },
      "outputs": [
        {
          "output_type": "stream",
          "name": "stdout",
          "text": [
            "Iteration  0 \n",
            "\n",
            ": Training Loss =  81.05325442648116 : Validation Loss =  38.21305687938821\n",
            "Training Accuracies:  0.14795833333333333 Validation Accuracies:  0.12116666666666667\n",
            "----------------\n",
            "Iteration  50 \n",
            "\n",
            ": Training Loss =  13.174365344300208 : Validation Loss =  12.771765516101032\n",
            "Training Accuracies:  0.4150625 Validation Accuracies:  0.30183333333333334\n",
            "----------------\n",
            "Iteration  100 \n",
            "\n",
            ": Training Loss =  11.049611417256544 : Validation Loss =  10.094108696816331\n",
            "Training Accuracies:  0.604875 Validation Accuracies:  0.6210833333333333\n",
            "----------------\n",
            "Iteration  150 \n",
            "\n",
            ": Training Loss =  10.320342805412675 : Validation Loss =  9.068015489961974\n",
            "Training Accuracies:  0.6465625 Validation Accuracies:  0.65525\n",
            "----------------\n",
            "Iteration  200 \n",
            "\n",
            ": Training Loss =  9.90112901604607 : Validation Loss =  8.571870077601417\n",
            "Training Accuracies:  0.6804375 Validation Accuracies:  0.68525\n",
            "----------------\n",
            "Iteration  250 \n",
            "\n",
            ": Training Loss =  9.665120817959782 : Validation Loss =  8.311775832827845\n",
            "Training Accuracies:  0.7030208333333333 Validation Accuracies:  0.7069166666666666\n",
            "----------------\n",
            "Iteration  300 \n",
            "\n",
            ": Training Loss =  9.527152773027577 : Validation Loss =  8.16548994157927\n",
            "Training Accuracies:  0.7201041666666667 Validation Accuracies:  0.7213333333333334\n",
            "----------------\n",
            "Iteration  350 \n",
            "\n",
            ": Training Loss =  9.44070919156165 : Validation Loss =  8.076126373218864\n",
            "Training Accuracies:  0.7321875 Validation Accuracies:  0.7331666666666666\n",
            "----------------\n",
            "Iteration  400 \n",
            "\n",
            ": Training Loss =  9.383826214624968 : Validation Loss =  8.01785285169056\n",
            "Training Accuracies:  0.7427708333333334 Validation Accuracies:  0.7431666666666666\n",
            "----------------\n",
            "Iteration  450 \n",
            "\n",
            ": Training Loss =  9.343753377534675 : Validation Loss =  7.977044289543737\n",
            "Training Accuracies:  0.7517916666666666 Validation Accuracies:  0.7535833333333334\n",
            "----------------\n",
            "Iteration  500 \n",
            "\n",
            ": Training Loss =  9.3130409162659 : Validation Loss =  7.946241821147407\n",
            "Training Accuracies:  0.76075 Validation Accuracies:  0.7615\n",
            "----------------\n",
            "Iteration  550 \n",
            "\n",
            ": Training Loss =  9.287969264491155 : Validation Loss =  7.921423556218968\n",
            "Training Accuracies:  0.7691875 Validation Accuracies:  0.7685833333333333\n",
            "----------------\n",
            "Iteration  600 \n",
            "\n",
            ": Training Loss =  9.266552467394018 : Validation Loss =  7.900596394474095\n",
            "Training Accuracies:  0.7772916666666667 Validation Accuracies:  0.7755\n",
            "----------------\n",
            "Iteration  650 \n",
            "\n",
            ": Training Loss =  9.247778684339593 : Validation Loss =  7.882598385364225\n",
            "Training Accuracies:  0.7849166666666667 Validation Accuracies:  0.7816666666666666\n",
            "----------------\n",
            "Iteration  700 \n",
            "\n",
            ": Training Loss =  9.2310842473708 : Validation Loss =  7.866718267725254\n",
            "Training Accuracies:  0.7913333333333333 Validation Accuracies:  0.7884166666666667\n",
            "----------------\n",
            "Iteration  750 \n",
            "\n",
            ": Training Loss =  9.216120675144564 : Validation Loss =  7.85249851992694\n",
            "Training Accuracies:  0.7970833333333334 Validation Accuracies:  0.79325\n",
            "----------------\n",
            "Iteration  800 \n",
            "\n",
            ": Training Loss =  9.202679344660128 : Validation Loss =  7.839718401247245\n",
            "Training Accuracies:  0.8027708333333333 Validation Accuracies:  0.7990833333333334\n",
            "----------------\n",
            "Iteration  850 \n",
            "\n",
            ": Training Loss =  9.190561253289749 : Validation Loss =  7.828172207287447\n",
            "Training Accuracies:  0.8076875 Validation Accuracies:  0.8035833333333333\n",
            "----------------\n",
            "Iteration  900 \n",
            "\n",
            ": Training Loss =  9.179598528512795 : Validation Loss =  7.817720890814004\n",
            "Training Accuracies:  0.811875 Validation Accuracies:  0.807\n",
            "----------------\n",
            "Iteration  950 \n",
            "\n",
            ": Training Loss =  9.16962908426049 : Validation Loss =  7.8082115901634515\n",
            "Training Accuracies:  0.8164166666666667 Validation Accuracies:  0.8113333333333334\n",
            "----------------\n",
            "Test Accuracy :  tf.Tensor(0.8059, shape=(), dtype=float64)\n"
          ]
        },
        {
          "output_type": "display_data",
          "data": {
            "text/plain": [
              "<Figure size 432x288 with 1 Axes>"
            ],
            "image/png": "[encoded data removed]"
          },
          "metadata": {
            "needs_background": "light"
          }
        },
        {
          "output_type": "display_data",
          "data": {
            "text/plain": [
              "<Figure size 432x288 with 1 Axes>"
            ],
            "image/png": "[encoded data removed]"
          },
          "metadata": {
            "needs_background": "light"
          }
        }
      ],
      "source": [
        "main()"
      ]
    },
    {
      "cell_type": "code",
      "source": [
        ""
      ],
      "metadata": {
        "id": "C_SD1s4uwklr"
      },
      "execution_count": null,
      "outputs": []
    }
  ],
  "metadata": {
    "accelerator": "GPU",
    "colab": {
      "collapsed_sections": [],
      "name": "Question1_1_2.ipynb",
      "provenance": []
    },
    "kernelspec": {
      "display_name": "Python 3",
      "name": "python3"
    },
    "language_info": {
      "name": "python"
    }
  },
  "nbformat": 4,
  "nbformat_minor": 0
}