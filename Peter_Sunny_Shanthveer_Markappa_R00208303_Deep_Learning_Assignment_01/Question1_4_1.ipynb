{
  "nbformat": 4,
  "nbformat_minor": 0,
  "metadata": {
    "colab": {
      "name": "Question1_4_1.ipynb",
      "provenance": [],
      "collapsed_sections": []
    },
    "kernelspec": {
      "name": "python3",
      "display_name": "Python 3"
    },
    "language_info": {
      "name": "python"
    },
    "accelerator": "GPU"
  },
  "cells": [
    {
      "cell_type": "code",
      "execution_count": 1,
      "metadata": {
        "id": "aY_pKomfl96X",
        "colab": {
          "base_uri": "https://localhost:8080/",
          "height": 35
        },
        "outputId": "3114b238-d871-4a1e-ffa8-66a6c75c4263"
      },
      "outputs": [
        {
          "output_type": "execute_result",
          "data": {
            "text/plain": [
              "'\\nName : Peter Sunny Shanthveer Markappa\\nStudent Number: R00208303\\nAssignemnt : 01\\nSubject: Deep Learning\\nSubmission Date: 03- April - 2022\\n'"
            ],
            "application/vnd.google.colaboratory.intrinsic+json": {
              "type": "string"
            }
          },
          "metadata": {},
          "execution_count": 1
        }
      ],
      "source": [
        "'''\n",
        "Name : Peter Sunny Shanthveer Markappa\n",
        "Student Number: R00208303\n",
        "Assignemnt : 01\n",
        "Subject: Deep Learning\n",
        "Submission Date: 03- April - 2022\n",
        "'''\n",
        "# Auto Encoder"
      ]
    },
    {
      "cell_type": "code",
      "source": [
        "import tensorflow as tf\n",
        "print(tf.__version__)\n",
        "\n",
        "from tensorflow.keras.datasets import fashion_mnist\n",
        "from keras.utils import np_utils\n",
        "import matplotlib.pyplot as plt\n",
        "\n",
        "from sklearn import datasets\n",
        "from sklearn import preprocessing\n",
        "\n",
        "from numpy import exp\n",
        "import numpy as np"
      ],
      "metadata": {
        "colab": {
          "base_uri": "https://localhost:8080/"
        },
        "id": "UJd5uYlCmBf3",
        "outputId": "c63b268e-b581-42af-aa67-78908b172b01"
      },
      "execution_count": null,
      "outputs": [
        {
          "output_type": "stream",
          "name": "stdout",
          "text": [
            "2.8.0\n"
          ]
        }
      ]
    },
    {
      "cell_type": "code",
      "source": [
        "def display_image(x_test_noisy, x_test):\n",
        "  n = 10  # Number of images to display \n",
        "\n",
        "  plt.figure(figsize=(20, 4))\n",
        "  for i in range(n):\n",
        "      # Display original\n",
        "      ax = plt.subplot(2, n, i + 1)\n",
        "      plt.imshow(x_test_noisy[i].numpy().reshape(28, 28))\n",
        "      plt.gray()\n",
        "      ax.get_xaxis().set_visible(False)\n",
        "      ax.get_yaxis().set_visible(False)\n",
        "\n",
        "      # Display reconstruction\n",
        "      ax = plt.subplot(2, n, i + 1 + n)\n",
        "      plt.imshow(x_test[i].reshape(28, 28))\n",
        "      plt.gray()\n",
        "      ax.get_xaxis().set_visible(False)\n",
        "      ax.get_yaxis().set_visible(False)\n",
        "  plt.show()"
      ],
      "metadata": {
        "id": "SAUvVWn9oV_S"
      },
      "execution_count": null,
      "outputs": []
    },
    {
      "cell_type": "code",
      "source": [
        "def Sigmoid(vector):\n",
        "    return 1 / (1 + (tf.exp(-vector, name ='exp')))"
      ],
      "metadata": {
        "id": "AVewDAoS-nXt"
      },
      "execution_count": null,
      "outputs": []
    },
    {
      "cell_type": "code",
      "source": [
        "def forward_pass(x, w1, b1, w2, b2, w3, b3, w4, b4, w5, b5, w6, b6):\n",
        "    # We need to mutliply each training example by the weights and add bias\n",
        "    y_pred1 = tf.matmul(x, tf.transpose(w1)) + b1\n",
        "\n",
        "    relu_res1 = tf.keras.activations.relu(y_pred1)\n",
        "    # print(\"relu_res1 = \", relu_res1.shape)\n",
        "\n",
        "    y_pred2 = tf.matmul(relu_res1, tf.transpose(w2)) + b2\n",
        "    relu_res2 = tf.keras.activations.relu(y_pred2)\n",
        "    # print(\"relu_res2 = \", relu_res2.shape)\n",
        "\n",
        "\n",
        "    y_pred3 = tf.matmul(relu_res2, tf.transpose(w3)) + b3\n",
        "    relu_res3 = tf.keras.activations.relu(y_pred3)\n",
        "    # print(\"relu_res3 = \", relu_res3.shape)\n",
        "\n",
        "    y_pred4 = tf.matmul(relu_res3, tf.transpose(w4)) + b4\n",
        "    relu_res4 = tf.keras.activations.relu(y_pred4)\n",
        "    # print(\"relu_res4 = \", relu_res4.shape)\n",
        "\n",
        "    y_pred5 = tf.matmul(relu_res4, tf.transpose(w5)) + b5\n",
        "    relu_res5 = tf.keras.activations.relu(y_pred5)\n",
        "    # print(\"relu_res5 = \", relu_res5.shape)\n",
        "\n",
        "    y_pred6 = tf.matmul(relu_res5,tf.transpose(w6)) + b6\n",
        "    act = Sigmoid(y_pred6)\n",
        "    # print(\"sigmoid activation shape = \", act.shape)\n",
        "\n",
        "    return act"
      ],
      "metadata": {
        "id": "uMyDi2OF-rRA"
      },
      "execution_count": null,
      "outputs": []
    },
    {
      "cell_type": "code",
      "source": [
        "def calculate_accuracy(y_pred, tr_y):\n",
        "    predictions = tf.round(y_pred)    \n",
        "    predictions_correct = tf.cast(tf.equal(tf.transpose(predictions), tr_y), tf.dtypes.float64)    \n",
        "    accuracy = tf.reduce_mean(predictions_correct)    \n",
        "    return accuracy"
      ],
      "metadata": {
        "id": "3SS6zLqn-sCe"
      },
      "execution_count": null,
      "outputs": []
    },
    {
      "cell_type": "code",
      "source": [
        "def mean_absolute_error(tr_y, y_pred):\n",
        "    return (1/tr_y.shape[0]) * (tf.reduce_sum(tf.abs(tr_y - y_pred)))"
      ],
      "metadata": {
        "id": "ObzAPspA-sLm"
      },
      "execution_count": null,
      "outputs": []
    },
    {
      "cell_type": "code",
      "source": [
        "def main():\n",
        "\n",
        "  adam_optimizer = tf.keras.optimizers.Adam()\n",
        "  \n",
        "\n",
        "  (x_train, y_train), (x_test, y_test) = fashion_mnist.load_data()\n",
        "  # Normalize train and test data\n",
        "  x_train = x_train.astype('float32') / 255.\n",
        "  x_test = x_test.astype('float32') / 255.\n",
        "\n",
        "  # Reshape so that each instance is a linear array of 784 normalized pixel values\n",
        "  x_train = x_train.reshape((len(x_train), 784))\n",
        "  x_test = x_test.reshape((len(x_test), 784))\n",
        "  print (x_train.shape, x_test.shape)\n",
        "\n",
        "  # Add random noise to the image\n",
        "  noise_factor = 0.2\n",
        "  x_train_noisy = x_train + noise_factor * tf.random.normal(shape=x_train.shape) \n",
        "  x_test_noisy = x_test + noise_factor * tf.random.normal(shape=x_test.shape) \n",
        "\n",
        "  # Clip the resulting values so that they don't fall outside the upper and lower normalized value of 0 and 1\n",
        "  x_train_noisy = tf.clip_by_value(x_train_noisy, clip_value_min=0., clip_value_max=1.)\n",
        "  x_test_noisy = tf.clip_by_value(x_test_noisy, clip_value_min=0., clip_value_max=1.)\n",
        "\n",
        "  # display_image(x_test_noisy, x_test) # Display the loaded images\n",
        "\n",
        "  w1 = tf.Variable(tf.random.normal( [128, 784] , mean=0.0, stddev=0.05,dtype=tf.dtypes.float32))\n",
        "  b1 = tf.Variable(tf.random.normal([128], dtype=tf.dtypes.float32))   \n",
        "\n",
        "  w2 = tf.Variable(tf.random.normal([64, 128] , mean=0.0, stddev=0.05,dtype=tf.dtypes.float32))\n",
        "  b2 = tf.Variable(tf.random.normal([64], dtype=tf.dtypes.float32))\n",
        "\n",
        "  w3 = tf.Variable(tf.random.normal([32, 64] , mean=0.0, stddev=0.05,dtype=tf.dtypes.float32))\n",
        "  b3 = tf.Variable(tf.random.normal([32], dtype=tf.dtypes.float32))\n",
        "\n",
        "  w4 = tf.Variable(tf.random.normal([64, 32] , mean=0.0, stddev=0.05,dtype=tf.dtypes.float32))\n",
        "  b4 = tf.Variable(tf.random.normal([64], dtype=tf.dtypes.float32))\n",
        "\n",
        "  w5 = tf.Variable(tf.random.normal([128, 64] , mean=0.0, stddev=0.05,dtype=tf.dtypes.float32))\n",
        "  b5 = tf.Variable(tf.random.normal([128], dtype=tf.dtypes.float32))\n",
        "\n",
        "  w6 = tf.Variable(tf.random.normal([784, 128] , mean=0.0, stddev=0.05,dtype=tf.dtypes.float32))\n",
        "  b6 = tf.Variable(tf.random.normal([784], dtype=tf.dtypes.float32))\n",
        "\n",
        "  \n",
        "  # array is used to store change in cost function for each iteration of GD\n",
        "  trainingLoss= []\n",
        "  validationLoss= []\n",
        "  trainingAccuracies = []\n",
        "  validationAccuracies = []\n",
        "\n",
        "      # Iterate our training loop\n",
        "  for i in range(400):\n",
        "      \n",
        "      # Create an instance of GradientTape to monitor the forward pass\n",
        "      # and calcualte the gradients for each of the variables m and c\n",
        "      \n",
        "      with tf.GradientTape() as tape:\n",
        "          y_pred = forward_pass(x_train_noisy, w1, b1, w2, b2, w3, b3, w4, b4, w5, b5, w6, b6)\n",
        "\n",
        "          currentLoss = mean_absolute_error(x_train, y_pred)\n",
        "          # print(\"Current Loss :\", currentLoss)\n",
        "          trainingLoss.append(currentLoss)\n",
        "\n",
        "      gradients = tape.gradient(currentLoss, [w1, b1, w2, b2, w3, b3, w4, b4, w5, b5, w6, b6])\n",
        "      # accuracy = calculate_accuracy(y_pred, tf.transpose(x_train))\n",
        "      adam_optimizer.apply_gradients(zip(gradients, [w1, b1, w2, b2, w3, b3, w4, b4, w5, b5, w6, b6]))\n",
        "      \n",
        "      accuracy = calculate_accuracy(y_pred, tf.transpose(x_train))\n",
        "      trainingAccuracies.append(accuracy)\n",
        "\n",
        "\n",
        "      if i % 50 == 0:\n",
        "        print (\"Iteration \", i, \"\\n\", \": Training Loss = \",currentLoss.numpy(), \"  Training Acc: \", accuracy.numpy())\n",
        "\n",
        "\n",
        "  y_pred_ = forward_pass(x_test_noisy, w1, b1, w2, b2, w3, b3, w4, b4, w5, b5, w6, b6)\n",
        "  currentLoss = mean_absolute_error(x_test, y_pred_)\n",
        "  test_accuracy = calculate_accuracy(y_pred_, tf.transpose(x_test))\n",
        "  print(\": Test Loss = \",currentLoss.numpy(),  \"  Test Acc: \", accuracy.numpy())\n",
        "\n",
        "\n",
        "  print(\"Final Images\")\n",
        "  n = 10  # Number of images to display \n",
        "\n",
        "  plt.figure(figsize=(20, 4))\n",
        "  for j in range(n):\n",
        "      # Display original\n",
        "      ax = plt.subplot(2, n, j + 1)\n",
        "      plt.imshow(y_pred_[j].numpy().reshape(28, 28))\n",
        "      plt.gray()\n",
        "      ax.get_xaxis().set_visible(False)\n",
        "      ax.get_yaxis().set_visible(False)\n",
        "\n",
        "      # Display reconstruction\n",
        "      ax = plt.subplot(2, n, j + 1 + n)\n",
        "      plt.imshow(x_test[j].reshape(28, 28))\n",
        "      plt.gray()\n",
        "      ax.get_xaxis().set_visible(False)\n",
        "      ax.get_yaxis().set_visible(False)\n",
        "  plt.show()\n",
        "\n",
        "  plt.title(\"Training Loss\")\n",
        "  plt.plot(trainingLoss, label=\"Train Loss\")\n",
        "  plt.show()\n",
        "\n",
        "  plt.title(\"Training Accuracy\")\n",
        "  plt.plot(trainingAccuracies, label=\"Train Acc\")\n",
        "  plt.show()\n",
        "\n",
        "  "
      ],
      "metadata": {
        "id": "vob3uqXBmBpU"
      },
      "execution_count": null,
      "outputs": []
    },
    {
      "cell_type": "code",
      "source": [
        "main()"
      ],
      "metadata": {
        "colab": {
          "base_uri": "https://localhost:8080/",
          "height": 1000
        },
        "id": "-2wlKcqTmBsz",
        "outputId": "81dfa944-70f3-40c2-e83e-e4ee439df95f"
      },
      "execution_count": null,
      "outputs": [
        {
          "output_type": "stream",
          "name": "stdout",
          "text": [
            "(60000, 784) (10000, 784)\n",
            "Iteration  0 \n",
            " : Training Loss =  317.24506   Training Acc:  0.25192582908163264\n",
            "Iteration  50 \n",
            " : Training Loss =  151.63078   Training Acc:  0.46798078231292517\n",
            "Iteration  100 \n",
            " : Training Loss =  130.66602   Training Acc:  0.4805924744897959\n",
            "Iteration  150 \n",
            " : Training Loss =  127.23807   Training Acc:  0.4808619897959184\n",
            "Iteration  200 \n",
            " : Training Loss =  111.2682   Training Acc:  0.49643256802721086\n",
            "Iteration  250 \n",
            " : Training Loss =  105.87365   Training Acc:  0.4948109268707483\n",
            "Iteration  300 \n",
            " : Training Loss =  100.59594   Training Acc:  0.49599589710884356\n",
            "Iteration  350 \n",
            " : Training Loss =  96.43217   Training Acc:  0.49725491071428574\n",
            ": Test Loss =  91.21605   Test Acc:  0.49707729591836736\n",
            "Final Images\n"
          ]
        },
        {
          "output_type": "display_data",
          "data": {
            "text/plain": [
              "<Figure size 1440x288 with 20 Axes>"
            ],
            "image/png": "[encoded data removed]"
          },
          "metadata": {
            "needs_background": "light"
          }
        },
        {
          "output_type": "display_data",
          "data": {
            "text/plain": [
              "<Figure size 432x288 with 1 Axes>"
            ],
            "image/png": "[encoded data removed]"
          },
          "metadata": {
            "needs_background": "light"
          }
        },
        {
          "output_type": "display_data",
          "data": {
            "text/plain": [
              "<Figure size 432x288 with 1 Axes>"
            ],
            "image/png": "[encoded data removed]"
          },
          "metadata": {
            "needs_background": "light"
          }
        }
      ]
    },
    {
      "cell_type": "code",
      "source": [
        ""
      ],
      "metadata": {
        "id": "WA6rxA4XAcey"
      },
      "execution_count": null,
      "outputs": []
    }
  ]
}